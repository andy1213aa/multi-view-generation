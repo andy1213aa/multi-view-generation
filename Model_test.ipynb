{
 "cells": [
  {
   "cell_type": "code",
   "execution_count": 1,
   "id": "e824e437",
   "metadata": {},
   "outputs": [
    {
     "name": "stderr",
     "output_type": "stream",
     "text": [
      "2022-07-06 10:47:22.349385: I tensorflow/core/util/util.cc:169] oneDNN custom operations are on. You may see slightly different numerical results due to floating-point round-off errors from different computation orders. To turn them off, set the environment variable `TF_ENABLE_ONEDNN_OPTS=0`.\n"
     ]
    },
    {
     "ename": "ModuleNotFoundError",
     "evalue": "No module named 'tensorflow_triplet_loss'",
     "output_type": "error",
     "traceback": [
      "\u001b[0;31m---------------------------------------------------------------------------\u001b[0m",
      "\u001b[0;31mModuleNotFoundError\u001b[0m                       Traceback (most recent call last)",
      "Input \u001b[0;32mIn [1]\u001b[0m, in \u001b[0;36m<cell line: 5>\u001b[0;34m()\u001b[0m\n\u001b[1;32m      3\u001b[0m \u001b[38;5;28;01mimport\u001b[39;00m \u001b[38;5;21;01mrandom\u001b[39;00m\n\u001b[1;32m      4\u001b[0m \u001b[38;5;28;01mimport\u001b[39;00m \u001b[38;5;21;01mnumpy\u001b[39;00m \u001b[38;5;28;01mas\u001b[39;00m \u001b[38;5;21;01mnp\u001b[39;00m\n\u001b[0;32m----> 5\u001b[0m \u001b[38;5;28;01mimport\u001b[39;00m \u001b[38;5;21;01mtensorflow_triplet_loss\u001b[39;00m\u001b[38;5;21;01m.\u001b[39;00m\u001b[38;5;21;01mmodel\u001b[39;00m\u001b[38;5;21;01m.\u001b[39;00m\u001b[38;5;21;01mtriplet_loss\u001b[39;00m \u001b[38;5;28;01mas\u001b[39;00m \u001b[38;5;21;01mtriplet_loss\u001b[39;00m\n\u001b[1;32m      6\u001b[0m \u001b[38;5;28;01mfrom\u001b[39;00m \u001b[38;5;21;01mfunctools\u001b[39;00m \u001b[38;5;28;01mimport\u001b[39;00m wraps\n\u001b[1;32m      7\u001b[0m \u001b[38;5;28;01mimport\u001b[39;00m \u001b[38;5;21;01mtime\u001b[39;00m\n",
      "\u001b[0;31mModuleNotFoundError\u001b[0m: No module named 'tensorflow_triplet_loss'"
     ]
    }
   ],
   "source": [
    "import tensorflow as tf\n",
    "import cv2\n",
    "import random\n",
    "import numpy as np\n",
    "import tensorflow_triplet_loss.model.triplet_loss as triplet_loss\n",
    "from functools import wraps\n",
    "import time"
   ]
  },
  {
   "cell_type": "code",
   "execution_count": 63,
   "id": "a5554c33",
   "metadata": {},
   "outputs": [],
   "source": [
    "mode = 'gait_recognition'\n",
    "date = '2022_6_27_18_10_448epoch'\n",
    "gait_model = tf.keras.models.load_model(f'/home/aaron/Desktop/Aaron/College-level_Applied_Research/gait_log/{mode}/{date}/GaitNet/trained_ckpt')"
   ]
  },
  {
   "cell_type": "code",
   "execution_count": 64,
   "id": "2e748827",
   "metadata": {},
   "outputs": [],
   "source": [
    "file_names = [str(i).zfill(5) for i in range(10308)]"
   ]
  },
  {
   "cell_type": "code",
   "execution_count": 65,
   "id": "99ec9bca",
   "metadata": {},
   "outputs": [],
   "source": [
    "def measureExcutionTime(func):\n",
    "    @wraps(func)\n",
    "    def _time_it(*args, **kwargs):\n",
    "        start = time.time()\n",
    "        try:\n",
    "            return func(*args, **kwargs)\n",
    "        finally:\n",
    "            end_ = time.time() - start\n",
    "            print(f\"{func.__name__} execution time: {end_: 0.4f} sec.\")\n",
    "    return _time_it"
   ]
  },
  {
   "cell_type": "code",
   "execution_count": 66,
   "id": "d8c64b92",
   "metadata": {},
   "outputs": [
    {
     "name": "stderr",
     "output_type": "stream",
     "text": [
      "[ WARN:0@2003.646] global /io/opencv/modules/imgcodecs/src/loadsave.cpp (239) findDecoder imread_('/home/aaron/Desktop/Aaron/College-level_Applied_Research/GEI/270-00/00000.png'): can't open/read file: check file path/integrity\n",
      "[ WARN:0@2004.250] global /io/opencv/modules/imgcodecs/src/loadsave.cpp (239) findDecoder imread_('/home/aaron/Desktop/Aaron/College-level_Applied_Research/GEI/270-00/00194.png'): can't open/read file: check file path/integrity\n",
      "[ WARN:0@2004.454] global /io/opencv/modules/imgcodecs/src/loadsave.cpp (239) findDecoder imread_('/home/aaron/Desktop/Aaron/College-level_Applied_Research/GEI/270-00/00258.png'): can't open/read file: check file path/integrity\n",
      "[ WARN:0@2004.624] global /io/opencv/modules/imgcodecs/src/loadsave.cpp (239) findDecoder imread_('/home/aaron/Desktop/Aaron/College-level_Applied_Research/GEI/270-00/00319.png'): can't open/read file: check file path/integrity\n",
      "[ WARN:0@2004.775] global /io/opencv/modules/imgcodecs/src/loadsave.cpp (239) findDecoder imread_('/home/aaron/Desktop/Aaron/College-level_Applied_Research/GEI/270-00/00375.png'): can't open/read file: check file path/integrity\n",
      "[ WARN:0@2004.797] global /io/opencv/modules/imgcodecs/src/loadsave.cpp (239) findDecoder imread_('/home/aaron/Desktop/Aaron/College-level_Applied_Research/GEI/270-00/00385.png'): can't open/read file: check file path/integrity\n",
      "[ WARN:0@2004.925] global /io/opencv/modules/imgcodecs/src/loadsave.cpp (239) findDecoder imread_('/home/aaron/Desktop/Aaron/College-level_Applied_Research/GEI/270-00/00427.png'): can't open/read file: check file path/integrity\n",
      "[ WARN:0@2004.957] global /io/opencv/modules/imgcodecs/src/loadsave.cpp (239) findDecoder imread_('/home/aaron/Desktop/Aaron/College-level_Applied_Research/GEI/270-00/00439.png'): can't open/read file: check file path/integrity\n",
      "[ WARN:0@2005.114] global /io/opencv/modules/imgcodecs/src/loadsave.cpp (239) findDecoder imread_('/home/aaron/Desktop/Aaron/College-level_Applied_Research/GEI/270-00/00499.png'): can't open/read file: check file path/integrity\n",
      "[ WARN:0@2005.811] global /io/opencv/modules/imgcodecs/src/loadsave.cpp (239) findDecoder imread_('/home/aaron/Desktop/Aaron/College-level_Applied_Research/GEI/270-00/00718.png'): can't open/read file: check file path/integrity\n",
      "[ WARN:0@2006.033] global /io/opencv/modules/imgcodecs/src/loadsave.cpp (239) findDecoder imread_('/home/aaron/Desktop/Aaron/College-level_Applied_Research/GEI/270-00/00798.png'): can't open/read file: check file path/integrity\n",
      "[ WARN:0@2006.308] global /io/opencv/modules/imgcodecs/src/loadsave.cpp (239) findDecoder imread_('/home/aaron/Desktop/Aaron/College-level_Applied_Research/GEI/270-00/00902.png'): can't open/read file: check file path/integrity\n",
      "[ WARN:0@2006.484] global /io/opencv/modules/imgcodecs/src/loadsave.cpp (239) findDecoder imread_('/home/aaron/Desktop/Aaron/College-level_Applied_Research/GEI/270-00/00965.png'): can't open/read file: check file path/integrity\n",
      "[ WARN:0@2007.221] global /io/opencv/modules/imgcodecs/src/loadsave.cpp (239) findDecoder imread_('/home/aaron/Desktop/Aaron/College-level_Applied_Research/GEI/270-00/01226.png'): can't open/read file: check file path/integrity\n",
      "[ WARN:0@2007.356] global /io/opencv/modules/imgcodecs/src/loadsave.cpp (239) findDecoder imread_('/home/aaron/Desktop/Aaron/College-level_Applied_Research/GEI/270-00/01279.png'): can't open/read file: check file path/integrity\n",
      "[ WARN:0@2007.393] global /io/opencv/modules/imgcodecs/src/loadsave.cpp (239) findDecoder imread_('/home/aaron/Desktop/Aaron/College-level_Applied_Research/GEI/270-00/01291.png'): can't open/read file: check file path/integrity\n",
      "[ WARN:0@2007.696] global /io/opencv/modules/imgcodecs/src/loadsave.cpp (239) findDecoder imread_('/home/aaron/Desktop/Aaron/College-level_Applied_Research/GEI/270-00/01396.png'): can't open/read file: check file path/integrity\n",
      "[ WARN:0@2007.768] global /io/opencv/modules/imgcodecs/src/loadsave.cpp (239) findDecoder imread_('/home/aaron/Desktop/Aaron/College-level_Applied_Research/GEI/270-00/01424.png'): can't open/read file: check file path/integrity\n",
      "[ WARN:0@2008.120] global /io/opencv/modules/imgcodecs/src/loadsave.cpp (239) findDecoder imread_('/home/aaron/Desktop/Aaron/College-level_Applied_Research/GEI/270-00/01558.png'): can't open/read file: check file path/integrity\n",
      "[ WARN:0@2008.135] global /io/opencv/modules/imgcodecs/src/loadsave.cpp (239) findDecoder imread_('/home/aaron/Desktop/Aaron/College-level_Applied_Research/GEI/270-00/01565.png'): can't open/read file: check file path/integrity\n",
      "[ WARN:0@2008.264] global /io/opencv/modules/imgcodecs/src/loadsave.cpp (239) findDecoder imread_('/home/aaron/Desktop/Aaron/College-level_Applied_Research/GEI/270-00/01611.png'): can't open/read file: check file path/integrity\n",
      "[ WARN:0@2008.265] global /io/opencv/modules/imgcodecs/src/loadsave.cpp (239) findDecoder imread_('/home/aaron/Desktop/Aaron/College-level_Applied_Research/GEI/270-00/01612.png'): can't open/read file: check file path/integrity\n",
      "[ WARN:0@2008.265] global /io/opencv/modules/imgcodecs/src/loadsave.cpp (239) findDecoder imread_('/home/aaron/Desktop/Aaron/College-level_Applied_Research/GEI/270-00/01613.png'): can't open/read file: check file path/integrity\n",
      "[ WARN:0@2008.267] global /io/opencv/modules/imgcodecs/src/loadsave.cpp (239) findDecoder imread_('/home/aaron/Desktop/Aaron/College-level_Applied_Research/GEI/270-00/01615.png'): can't open/read file: check file path/integrity\n",
      "[ WARN:0@2008.337] global /io/opencv/modules/imgcodecs/src/loadsave.cpp (239) findDecoder imread_('/home/aaron/Desktop/Aaron/College-level_Applied_Research/GEI/270-00/01642.png'): can't open/read file: check file path/integrity\n",
      "[ WARN:0@2008.503] global /io/opencv/modules/imgcodecs/src/loadsave.cpp (239) findDecoder imread_('/home/aaron/Desktop/Aaron/College-level_Applied_Research/GEI/270-00/01706.png'): can't open/read file: check file path/integrity\n",
      "[ WARN:0@2008.577] global /io/opencv/modules/imgcodecs/src/loadsave.cpp (239) findDecoder imread_('/home/aaron/Desktop/Aaron/College-level_Applied_Research/GEI/270-00/01735.png'): can't open/read file: check file path/integrity\n",
      "[ WARN:0@2008.726] global /io/opencv/modules/imgcodecs/src/loadsave.cpp (239) findDecoder imread_('/home/aaron/Desktop/Aaron/College-level_Applied_Research/GEI/270-00/01794.png'): can't open/read file: check file path/integrity\n",
      "[ WARN:0@2009.172] global /io/opencv/modules/imgcodecs/src/loadsave.cpp (239) findDecoder imread_('/home/aaron/Desktop/Aaron/College-level_Applied_Research/GEI/270-00/01927.png'): can't open/read file: check file path/integrity\n",
      "[ WARN:0@2009.694] global /io/opencv/modules/imgcodecs/src/loadsave.cpp (239) findDecoder imread_('/home/aaron/Desktop/Aaron/College-level_Applied_Research/GEI/270-00/02084.png'): can't open/read file: check file path/integrity\n",
      "[ WARN:0@2009.754] global /io/opencv/modules/imgcodecs/src/loadsave.cpp (239) findDecoder imread_('/home/aaron/Desktop/Aaron/College-level_Applied_Research/GEI/270-00/02108.png'): can't open/read file: check file path/integrity\n",
      "[ WARN:0@2009.800] global /io/opencv/modules/imgcodecs/src/loadsave.cpp (239) findDecoder imread_('/home/aaron/Desktop/Aaron/College-level_Applied_Research/GEI/270-00/02127.png'): can't open/read file: check file path/integrity\n",
      "[ WARN:0@2009.955] global /io/opencv/modules/imgcodecs/src/loadsave.cpp (239) findDecoder imread_('/home/aaron/Desktop/Aaron/College-level_Applied_Research/GEI/270-00/02189.png'): can't open/read file: check file path/integrity\n",
      "[ WARN:0@2009.970] global /io/opencv/modules/imgcodecs/src/loadsave.cpp (239) findDecoder imread_('/home/aaron/Desktop/Aaron/College-level_Applied_Research/GEI/270-00/02196.png'): can't open/read file: check file path/integrity\n",
      "[ WARN:0@2010.019] global /io/opencv/modules/imgcodecs/src/loadsave.cpp (239) findDecoder imread_('/home/aaron/Desktop/Aaron/College-level_Applied_Research/GEI/270-00/02211.png'): can't open/read file: check file path/integrity\n",
      "[ WARN:0@2010.584] global /io/opencv/modules/imgcodecs/src/loadsave.cpp (239) findDecoder imread_('/home/aaron/Desktop/Aaron/College-level_Applied_Research/GEI/270-00/02425.png'): can't open/read file: check file path/integrity\n",
      "[ WARN:0@2010.736] global /io/opencv/modules/imgcodecs/src/loadsave.cpp (239) findDecoder imread_('/home/aaron/Desktop/Aaron/College-level_Applied_Research/GEI/270-00/02485.png'): can't open/read file: check file path/integrity\n"
     ]
    },
    {
     "name": "stderr",
     "output_type": "stream",
     "text": [
      "[ WARN:0@2011.252] global /io/opencv/modules/imgcodecs/src/loadsave.cpp (239) findDecoder imread_('/home/aaron/Desktop/Aaron/College-level_Applied_Research/GEI/270-00/02652.png'): can't open/read file: check file path/integrity\n",
      "[ WARN:0@2011.385] global /io/opencv/modules/imgcodecs/src/loadsave.cpp (239) findDecoder imread_('/home/aaron/Desktop/Aaron/College-level_Applied_Research/GEI/270-00/02704.png'): can't open/read file: check file path/integrity\n",
      "[ WARN:0@2011.957] global /io/opencv/modules/imgcodecs/src/loadsave.cpp (239) findDecoder imread_('/home/aaron/Desktop/Aaron/College-level_Applied_Research/GEI/270-00/02917.png'): can't open/read file: check file path/integrity\n",
      "[ WARN:0@2012.167] global /io/opencv/modules/imgcodecs/src/loadsave.cpp (239) findDecoder imread_('/home/aaron/Desktop/Aaron/College-level_Applied_Research/GEI/270-00/02998.png'): can't open/read file: check file path/integrity\n",
      "[ WARN:0@2012.238] global /io/opencv/modules/imgcodecs/src/loadsave.cpp (239) findDecoder imread_('/home/aaron/Desktop/Aaron/College-level_Applied_Research/GEI/270-00/03027.png'): can't open/read file: check file path/integrity\n",
      "[ WARN:0@2012.251] global /io/opencv/modules/imgcodecs/src/loadsave.cpp (239) findDecoder imread_('/home/aaron/Desktop/Aaron/College-level_Applied_Research/GEI/270-00/03033.png'): can't open/read file: check file path/integrity\n",
      "[ WARN:0@2012.556] global /io/opencv/modules/imgcodecs/src/loadsave.cpp (239) findDecoder imread_('/home/aaron/Desktop/Aaron/College-level_Applied_Research/GEI/270-00/03125.png'): can't open/read file: check file path/integrity\n",
      "[ WARN:0@2012.591] global /io/opencv/modules/imgcodecs/src/loadsave.cpp (239) findDecoder imread_('/home/aaron/Desktop/Aaron/College-level_Applied_Research/GEI/270-00/03140.png'): can't open/read file: check file path/integrity\n",
      "[ WARN:0@2013.074] global /io/opencv/modules/imgcodecs/src/loadsave.cpp (239) findDecoder imread_('/home/aaron/Desktop/Aaron/College-level_Applied_Research/GEI/270-00/03287.png'): can't open/read file: check file path/integrity\n",
      "[ WARN:0@2013.200] global /io/opencv/modules/imgcodecs/src/loadsave.cpp (239) findDecoder imread_('/home/aaron/Desktop/Aaron/College-level_Applied_Research/GEI/270-00/03329.png'): can't open/read file: check file path/integrity\n",
      "[ WARN:0@2013.419] global /io/opencv/modules/imgcodecs/src/loadsave.cpp (239) findDecoder imread_('/home/aaron/Desktop/Aaron/College-level_Applied_Research/GEI/270-00/03412.png'): can't open/read file: check file path/integrity\n",
      "[ WARN:0@2013.426] global /io/opencv/modules/imgcodecs/src/loadsave.cpp (239) findDecoder imread_('/home/aaron/Desktop/Aaron/College-level_Applied_Research/GEI/270-00/03416.png'): can't open/read file: check file path/integrity\n",
      "[ WARN:0@2013.435] global /io/opencv/modules/imgcodecs/src/loadsave.cpp (239) findDecoder imread_('/home/aaron/Desktop/Aaron/College-level_Applied_Research/GEI/270-00/03419.png'): can't open/read file: check file path/integrity\n",
      "[ WARN:0@2013.689] global /io/opencv/modules/imgcodecs/src/loadsave.cpp (239) findDecoder imread_('/home/aaron/Desktop/Aaron/College-level_Applied_Research/GEI/270-00/03508.png'): can't open/read file: check file path/integrity\n",
      "[ WARN:0@2013.893] global /io/opencv/modules/imgcodecs/src/loadsave.cpp (239) findDecoder imread_('/home/aaron/Desktop/Aaron/College-level_Applied_Research/GEI/270-00/03585.png'): can't open/read file: check file path/integrity\n",
      "[ WARN:0@2014.312] global /io/opencv/modules/imgcodecs/src/loadsave.cpp (239) findDecoder imread_('/home/aaron/Desktop/Aaron/College-level_Applied_Research/GEI/270-00/03728.png'): can't open/read file: check file path/integrity\n",
      "[ WARN:0@2014.320] global /io/opencv/modules/imgcodecs/src/loadsave.cpp (239) findDecoder imread_('/home/aaron/Desktop/Aaron/College-level_Applied_Research/GEI/270-00/03732.png'): can't open/read file: check file path/integrity\n",
      "[ WARN:0@2014.347] global /io/opencv/modules/imgcodecs/src/loadsave.cpp (239) findDecoder imread_('/home/aaron/Desktop/Aaron/College-level_Applied_Research/GEI/270-00/03744.png'): can't open/read file: check file path/integrity\n",
      "[ WARN:0@2014.350] global /io/opencv/modules/imgcodecs/src/loadsave.cpp (239) findDecoder imread_('/home/aaron/Desktop/Aaron/College-level_Applied_Research/GEI/270-00/03746.png'): can't open/read file: check file path/integrity\n",
      "[ WARN:0@2014.402] global /io/opencv/modules/imgcodecs/src/loadsave.cpp (239) findDecoder imread_('/home/aaron/Desktop/Aaron/College-level_Applied_Research/GEI/270-00/03765.png'): can't open/read file: check file path/integrity\n",
      "[ WARN:0@2015.574] global /io/opencv/modules/imgcodecs/src/loadsave.cpp (239) findDecoder imread_('/home/aaron/Desktop/Aaron/College-level_Applied_Research/GEI/270-00/04163.png'): can't open/read file: check file path/integrity\n",
      "[ WARN:0@2015.917] global /io/opencv/modules/imgcodecs/src/loadsave.cpp (239) findDecoder imread_('/home/aaron/Desktop/Aaron/College-level_Applied_Research/GEI/270-00/04289.png'): can't open/read file: check file path/integrity\n",
      "[ WARN:0@2015.920] global /io/opencv/modules/imgcodecs/src/loadsave.cpp (239) findDecoder imread_('/home/aaron/Desktop/Aaron/College-level_Applied_Research/GEI/270-00/04291.png'): can't open/read file: check file path/integrity\n",
      "[ WARN:0@2015.920] global /io/opencv/modules/imgcodecs/src/loadsave.cpp (239) findDecoder imread_('/home/aaron/Desktop/Aaron/College-level_Applied_Research/GEI/270-00/04292.png'): can't open/read file: check file path/integrity\n",
      "[ WARN:0@2015.920] global /io/opencv/modules/imgcodecs/src/loadsave.cpp (239) findDecoder imread_('/home/aaron/Desktop/Aaron/College-level_Applied_Research/GEI/270-00/04293.png'): can't open/read file: check file path/integrity\n",
      "[ WARN:0@2015.920] global /io/opencv/modules/imgcodecs/src/loadsave.cpp (239) findDecoder imread_('/home/aaron/Desktop/Aaron/College-level_Applied_Research/GEI/270-00/04294.png'): can't open/read file: check file path/integrity\n",
      "[ WARN:0@2015.920] global /io/opencv/modules/imgcodecs/src/loadsave.cpp (239) findDecoder imread_('/home/aaron/Desktop/Aaron/College-level_Applied_Research/GEI/270-00/04295.png'): can't open/read file: check file path/integrity\n",
      "[ WARN:0@2015.920] global /io/opencv/modules/imgcodecs/src/loadsave.cpp (239) findDecoder imread_('/home/aaron/Desktop/Aaron/College-level_Applied_Research/GEI/270-00/04296.png'): can't open/read file: check file path/integrity\n",
      "[ WARN:0@2015.920] global /io/opencv/modules/imgcodecs/src/loadsave.cpp (239) findDecoder imread_('/home/aaron/Desktop/Aaron/College-level_Applied_Research/GEI/270-00/04297.png'): can't open/read file: check file path/integrity\n",
      "[ WARN:0@2015.923] global /io/opencv/modules/imgcodecs/src/loadsave.cpp (239) findDecoder imread_('/home/aaron/Desktop/Aaron/College-level_Applied_Research/GEI/270-00/04299.png'): can't open/read file: check file path/integrity\n",
      "[ WARN:0@2015.923] global /io/opencv/modules/imgcodecs/src/loadsave.cpp (239) findDecoder imread_('/home/aaron/Desktop/Aaron/College-level_Applied_Research/GEI/270-00/04300.png'): can't open/read file: check file path/integrity\n",
      "[ WARN:0@2015.923] global /io/opencv/modules/imgcodecs/src/loadsave.cpp (239) findDecoder imread_('/home/aaron/Desktop/Aaron/College-level_Applied_Research/GEI/270-00/04301.png'): can't open/read file: check file path/integrity\n",
      "[ WARN:0@2015.923] global /io/opencv/modules/imgcodecs/src/loadsave.cpp (239) findDecoder imread_('/home/aaron/Desktop/Aaron/College-level_Applied_Research/GEI/270-00/04302.png'): can't open/read file: check file path/integrity\n",
      "[ WARN:0@2015.923] global /io/opencv/modules/imgcodecs/src/loadsave.cpp (239) findDecoder imread_('/home/aaron/Desktop/Aaron/College-level_Applied_Research/GEI/270-00/04303.png'): can't open/read file: check file path/integrity\n",
      "[ WARN:0@2015.923] global /io/opencv/modules/imgcodecs/src/loadsave.cpp (239) findDecoder imread_('/home/aaron/Desktop/Aaron/College-level_Applied_Research/GEI/270-00/04304.png'): can't open/read file: check file path/integrity\n",
      "[ WARN:0@2015.923] global /io/opencv/modules/imgcodecs/src/loadsave.cpp (239) findDecoder imread_('/home/aaron/Desktop/Aaron/College-level_Applied_Research/GEI/270-00/04305.png'): can't open/read file: check file path/integrity\n",
      "[ WARN:0@2015.923] global /io/opencv/modules/imgcodecs/src/loadsave.cpp (239) findDecoder imread_('/home/aaron/Desktop/Aaron/College-level_Applied_Research/GEI/270-00/04306.png'): can't open/read file: check file path/integrity\n",
      "[ WARN:0@2015.923] global /io/opencv/modules/imgcodecs/src/loadsave.cpp (239) findDecoder imread_('/home/aaron/Desktop/Aaron/College-level_Applied_Research/GEI/270-00/04307.png'): can't open/read file: check file path/integrity\n",
      "[ WARN:0@2015.927] global /io/opencv/modules/imgcodecs/src/loadsave.cpp (239) findDecoder imread_('/home/aaron/Desktop/Aaron/College-level_Applied_Research/GEI/270-00/04310.png'): can't open/read file: check file path/integrity\n",
      "[ WARN:0@2015.930] global /io/opencv/modules/imgcodecs/src/loadsave.cpp (239) findDecoder imread_('/home/aaron/Desktop/Aaron/College-level_Applied_Research/GEI/270-00/04312.png'): can't open/read file: check file path/integrity\n",
      "[ WARN:0@2015.930] global /io/opencv/modules/imgcodecs/src/loadsave.cpp (239) findDecoder imread_('/home/aaron/Desktop/Aaron/College-level_Applied_Research/GEI/270-00/04313.png'): can't open/read file: check file path/integrity\n",
      "[ WARN:0@2015.930] global /io/opencv/modules/imgcodecs/src/loadsave.cpp (239) findDecoder imread_('/home/aaron/Desktop/Aaron/College-level_Applied_Research/GEI/270-00/04314.png'): can't open/read file: check file path/integrity\n",
      "[ WARN:0@2015.930] global /io/opencv/modules/imgcodecs/src/loadsave.cpp (239) findDecoder imread_('/home/aaron/Desktop/Aaron/College-level_Applied_Research/GEI/270-00/04315.png'): can't open/read file: check file path/integrity\n",
      "[ WARN:0@2015.932] global /io/opencv/modules/imgcodecs/src/loadsave.cpp (239) findDecoder imread_('/home/aaron/Desktop/Aaron/College-level_Applied_Research/GEI/270-00/04317.png'): can't open/read file: check file path/integrity\n",
      "[ WARN:0@2015.932] global /io/opencv/modules/imgcodecs/src/loadsave.cpp (239) findDecoder imread_('/home/aaron/Desktop/Aaron/College-level_Applied_Research/GEI/270-00/04318.png'): can't open/read file: check file path/integrity\n",
      "[ WARN:0@2015.932] global /io/opencv/modules/imgcodecs/src/loadsave.cpp (239) findDecoder imread_('/home/aaron/Desktop/Aaron/College-level_Applied_Research/GEI/270-00/04319.png'): can't open/read file: check file path/integrity\n",
      "[ WARN:0@2015.935] global /io/opencv/modules/imgcodecs/src/loadsave.cpp (239) findDecoder imread_('/home/aaron/Desktop/Aaron/College-level_Applied_Research/GEI/270-00/04321.png'): can't open/read file: check file path/integrity\n",
      "[ WARN:0@2015.935] global /io/opencv/modules/imgcodecs/src/loadsave.cpp (239) findDecoder imread_('/home/aaron/Desktop/Aaron/College-level_Applied_Research/GEI/270-00/04322.png'): can't open/read file: check file path/integrity\n",
      "[ WARN:0@2015.935] global /io/opencv/modules/imgcodecs/src/loadsave.cpp (239) findDecoder imread_('/home/aaron/Desktop/Aaron/College-level_Applied_Research/GEI/270-00/04323.png'): can't open/read file: check file path/integrity\n",
      "[ WARN:0@2015.935] global /io/opencv/modules/imgcodecs/src/loadsave.cpp (239) findDecoder imread_('/home/aaron/Desktop/Aaron/College-level_Applied_Research/GEI/270-00/04324.png'): can't open/read file: check file path/integrity\n",
      "[ WARN:0@2015.935] global /io/opencv/modules/imgcodecs/src/loadsave.cpp (239) findDecoder imread_('/home/aaron/Desktop/Aaron/College-level_Applied_Research/GEI/270-00/04325.png'): can't open/read file: check file path/integrity\n",
      "[ WARN:0@2015.937] global /io/opencv/modules/imgcodecs/src/loadsave.cpp (239) findDecoder imread_('/home/aaron/Desktop/Aaron/College-level_Applied_Research/GEI/270-00/04327.png'): can't open/read file: check file path/integrity\n",
      "[ WARN:0@2015.937] global /io/opencv/modules/imgcodecs/src/loadsave.cpp (239) findDecoder imread_('/home/aaron/Desktop/Aaron/College-level_Applied_Research/GEI/270-00/04328.png'): can't open/read file: check file path/integrity\n",
      "[ WARN:0@2015.938] global /io/opencv/modules/imgcodecs/src/loadsave.cpp (239) findDecoder imread_('/home/aaron/Desktop/Aaron/College-level_Applied_Research/GEI/270-00/04329.png'): can't open/read file: check file path/integrity\n",
      "[ WARN:0@2015.938] global /io/opencv/modules/imgcodecs/src/loadsave.cpp (239) findDecoder imread_('/home/aaron/Desktop/Aaron/College-level_Applied_Research/GEI/270-00/04330.png'): can't open/read file: check file path/integrity\n",
      "[ WARN:0@2015.940] global /io/opencv/modules/imgcodecs/src/loadsave.cpp (239) findDecoder imread_('/home/aaron/Desktop/Aaron/College-level_Applied_Research/GEI/270-00/04332.png'): can't open/read file: check file path/integrity\n",
      "[ WARN:0@2015.940] global /io/opencv/modules/imgcodecs/src/loadsave.cpp (239) findDecoder imread_('/home/aaron/Desktop/Aaron/College-level_Applied_Research/GEI/270-00/04333.png'): can't open/read file: check file path/integrity\n",
      "[ WARN:0@2015.940] global /io/opencv/modules/imgcodecs/src/loadsave.cpp (239) findDecoder imread_('/home/aaron/Desktop/Aaron/College-level_Applied_Research/GEI/270-00/04334.png'): can't open/read file: check file path/integrity\n",
      "[ WARN:0@2015.946] global /io/opencv/modules/imgcodecs/src/loadsave.cpp (239) findDecoder imread_('/home/aaron/Desktop/Aaron/College-level_Applied_Research/GEI/270-00/04337.png'): can't open/read file: check file path/integrity\n",
      "[ WARN:0@2015.946] global /io/opencv/modules/imgcodecs/src/loadsave.cpp (239) findDecoder imread_('/home/aaron/Desktop/Aaron/College-level_Applied_Research/GEI/270-00/04338.png'): can't open/read file: check file path/integrity\n",
      "[ WARN:0@2015.946] global /io/opencv/modules/imgcodecs/src/loadsave.cpp (239) findDecoder imread_('/home/aaron/Desktop/Aaron/College-level_Applied_Research/GEI/270-00/04339.png'): can't open/read file: check file path/integrity\n",
      "[ WARN:0@2015.948] global /io/opencv/modules/imgcodecs/src/loadsave.cpp (239) findDecoder imread_('/home/aaron/Desktop/Aaron/College-level_Applied_Research/GEI/270-00/04341.png'): can't open/read file: check file path/integrity\n",
      "[ WARN:0@2015.948] global /io/opencv/modules/imgcodecs/src/loadsave.cpp (239) findDecoder imread_('/home/aaron/Desktop/Aaron/College-level_Applied_Research/GEI/270-00/04342.png'): can't open/read file: check file path/integrity\n",
      "[ WARN:0@2015.951] global /io/opencv/modules/imgcodecs/src/loadsave.cpp (239) findDecoder imread_('/home/aaron/Desktop/Aaron/College-level_Applied_Research/GEI/270-00/04344.png'): can't open/read file: check file path/integrity\n",
      "[ WARN:0@2015.951] global /io/opencv/modules/imgcodecs/src/loadsave.cpp (239) findDecoder imread_('/home/aaron/Desktop/Aaron/College-level_Applied_Research/GEI/270-00/04345.png'): can't open/read file: check file path/integrity\n",
      "[ WARN:0@2015.951] global /io/opencv/modules/imgcodecs/src/loadsave.cpp (239) findDecoder imread_('/home/aaron/Desktop/Aaron/College-level_Applied_Research/GEI/270-00/04346.png'): can't open/read file: check file path/integrity\n",
      "[ WARN:0@2015.954] global /io/opencv/modules/imgcodecs/src/loadsave.cpp (239) findDecoder imread_('/home/aaron/Desktop/Aaron/College-level_Applied_Research/GEI/270-00/04348.png'): can't open/read file: check file path/integrity\n",
      "[ WARN:0@2015.956] global /io/opencv/modules/imgcodecs/src/loadsave.cpp (239) findDecoder imread_('/home/aaron/Desktop/Aaron/College-level_Applied_Research/GEI/270-00/04350.png'): can't open/read file: check file path/integrity\n",
      "[ WARN:0@2015.956] global /io/opencv/modules/imgcodecs/src/loadsave.cpp (239) findDecoder imread_('/home/aaron/Desktop/Aaron/College-level_Applied_Research/GEI/270-00/04351.png'): can't open/read file: check file path/integrity\n",
      "[ WARN:0@2015.971] global /io/opencv/modules/imgcodecs/src/loadsave.cpp (239) findDecoder imread_('/home/aaron/Desktop/Aaron/College-level_Applied_Research/GEI/270-00/04358.png'): can't open/read file: check file path/integrity\n",
      "[ WARN:0@2015.971] global /io/opencv/modules/imgcodecs/src/loadsave.cpp (239) findDecoder imread_('/home/aaron/Desktop/Aaron/College-level_Applied_Research/GEI/270-00/04359.png'): can't open/read file: check file path/integrity\n",
      "[ WARN:0@2015.974] global /io/opencv/modules/imgcodecs/src/loadsave.cpp (239) findDecoder imread_('/home/aaron/Desktop/Aaron/College-level_Applied_Research/GEI/270-00/04361.png'): can't open/read file: check file path/integrity\n",
      "[ WARN:0@2015.982] global /io/opencv/modules/imgcodecs/src/loadsave.cpp (239) findDecoder imread_('/home/aaron/Desktop/Aaron/College-level_Applied_Research/GEI/270-00/04365.png'): can't open/read file: check file path/integrity\n",
      "[ WARN:0@2015.982] global /io/opencv/modules/imgcodecs/src/loadsave.cpp (239) findDecoder imread_('/home/aaron/Desktop/Aaron/College-level_Applied_Research/GEI/270-00/04366.png'): can't open/read file: check file path/integrity\n",
      "[ WARN:0@2015.982] global /io/opencv/modules/imgcodecs/src/loadsave.cpp (239) findDecoder imread_('/home/aaron/Desktop/Aaron/College-level_Applied_Research/GEI/270-00/04367.png'): can't open/read file: check file path/integrity\n",
      "[ WARN:0@2015.982] global /io/opencv/modules/imgcodecs/src/loadsave.cpp (239) findDecoder imread_('/home/aaron/Desktop/Aaron/College-level_Applied_Research/GEI/270-00/04368.png'): can't open/read file: check file path/integrity\n",
      "[ WARN:0@2015.982] global /io/opencv/modules/imgcodecs/src/loadsave.cpp (239) findDecoder imread_('/home/aaron/Desktop/Aaron/College-level_Applied_Research/GEI/270-00/04369.png'): can't open/read file: check file path/integrity\n",
      "[ WARN:0@2015.990] global /io/opencv/modules/imgcodecs/src/loadsave.cpp (239) findDecoder imread_('/home/aaron/Desktop/Aaron/College-level_Applied_Research/GEI/270-00/04373.png'): can't open/read file: check file path/integrity\n",
      "[ WARN:0@2016.023] global /io/opencv/modules/imgcodecs/src/loadsave.cpp (239) findDecoder imread_('/home/aaron/Desktop/Aaron/College-level_Applied_Research/GEI/270-00/04387.png'): can't open/read file: check file path/integrity\n",
      "[ WARN:0@2016.026] global /io/opencv/modules/imgcodecs/src/loadsave.cpp (239) findDecoder imread_('/home/aaron/Desktop/Aaron/College-level_Applied_Research/GEI/270-00/04389.png'): can't open/read file: check file path/integrity\n",
      "[ WARN:0@2016.054] global /io/opencv/modules/imgcodecs/src/loadsave.cpp (239) findDecoder imread_('/home/aaron/Desktop/Aaron/College-level_Applied_Research/GEI/270-00/04400.png'): can't open/read file: check file path/integrity\n",
      "[ WARN:0@2016.054] global /io/opencv/modules/imgcodecs/src/loadsave.cpp (239) findDecoder imread_('/home/aaron/Desktop/Aaron/College-level_Applied_Research/GEI/270-00/04401.png'): can't open/read file: check file path/integrity\n",
      "[ WARN:0@2016.054] global /io/opencv/modules/imgcodecs/src/loadsave.cpp (239) findDecoder imread_('/home/aaron/Desktop/Aaron/College-level_Applied_Research/GEI/270-00/04402.png'): can't open/read file: check file path/integrity\n",
      "[ WARN:0@2016.059] global /io/opencv/modules/imgcodecs/src/loadsave.cpp (239) findDecoder imread_('/home/aaron/Desktop/Aaron/College-level_Applied_Research/GEI/270-00/04405.png'): can't open/read file: check file path/integrity\n",
      "[ WARN:0@2016.067] global /io/opencv/modules/imgcodecs/src/loadsave.cpp (239) findDecoder imread_('/home/aaron/Desktop/Aaron/College-level_Applied_Research/GEI/270-00/04409.png'): can't open/read file: check file path/integrity\n",
      "[ WARN:0@2016.070] global /io/opencv/modules/imgcodecs/src/loadsave.cpp (239) findDecoder imread_('/home/aaron/Desktop/Aaron/College-level_Applied_Research/GEI/270-00/04411.png'): can't open/read file: check file path/integrity\n",
      "[ WARN:0@2016.070] global /io/opencv/modules/imgcodecs/src/loadsave.cpp (239) findDecoder imread_('/home/aaron/Desktop/Aaron/College-level_Applied_Research/GEI/270-00/04412.png'): can't open/read file: check file path/integrity\n",
      "[ WARN:0@2016.081] global /io/opencv/modules/imgcodecs/src/loadsave.cpp (239) findDecoder imread_('/home/aaron/Desktop/Aaron/College-level_Applied_Research/GEI/270-00/04416.png'): can't open/read file: check file path/integrity\n",
      "[ WARN:0@2016.081] global /io/opencv/modules/imgcodecs/src/loadsave.cpp (239) findDecoder imread_('/home/aaron/Desktop/Aaron/College-level_Applied_Research/GEI/270-00/04417.png'): can't open/read file: check file path/integrity\n",
      "[ WARN:0@2016.084] global /io/opencv/modules/imgcodecs/src/loadsave.cpp (239) findDecoder imread_('/home/aaron/Desktop/Aaron/College-level_Applied_Research/GEI/270-00/04419.png'): can't open/read file: check file path/integrity\n",
      "[ WARN:0@2016.084] global /io/opencv/modules/imgcodecs/src/loadsave.cpp (239) findDecoder imread_('/home/aaron/Desktop/Aaron/College-level_Applied_Research/GEI/270-00/04420.png'): can't open/read file: check file path/integrity\n",
      "[ WARN:0@2016.084] global /io/opencv/modules/imgcodecs/src/loadsave.cpp (239) findDecoder imread_('/home/aaron/Desktop/Aaron/College-level_Applied_Research/GEI/270-00/04421.png'): can't open/read file: check file path/integrity\n",
      "[ WARN:0@2016.084] global /io/opencv/modules/imgcodecs/src/loadsave.cpp (239) findDecoder imread_('/home/aaron/Desktop/Aaron/College-level_Applied_Research/GEI/270-00/04422.png'): can't open/read file: check file path/integrity\n",
      "[ WARN:0@2016.084] global /io/opencv/modules/imgcodecs/src/loadsave.cpp (239) findDecoder imread_('/home/aaron/Desktop/Aaron/College-level_Applied_Research/GEI/270-00/04423.png'): can't open/read file: check file path/integrity\n",
      "[ WARN:0@2016.090] global /io/opencv/modules/imgcodecs/src/loadsave.cpp (239) findDecoder imread_('/home/aaron/Desktop/Aaron/College-level_Applied_Research/GEI/270-00/04426.png'): can't open/read file: check file path/integrity\n",
      "[ WARN:0@2016.095] global /io/opencv/modules/imgcodecs/src/loadsave.cpp (239) findDecoder imread_('/home/aaron/Desktop/Aaron/College-level_Applied_Research/GEI/270-00/04429.png'): can't open/read file: check file path/integrity\n",
      "[ WARN:0@2016.095] global /io/opencv/modules/imgcodecs/src/loadsave.cpp (239) findDecoder imread_('/home/aaron/Desktop/Aaron/College-level_Applied_Research/GEI/270-00/04430.png'): can't open/read file: check file path/integrity\n",
      "[ WARN:0@2016.098] global /io/opencv/modules/imgcodecs/src/loadsave.cpp (239) findDecoder imread_('/home/aaron/Desktop/Aaron/College-level_Applied_Research/GEI/270-00/04432.png'): can't open/read file: check file path/integrity\n",
      "[ WARN:0@2016.098] global /io/opencv/modules/imgcodecs/src/loadsave.cpp (239) findDecoder imread_('/home/aaron/Desktop/Aaron/College-level_Applied_Research/GEI/270-00/04433.png'): can't open/read file: check file path/integrity\n",
      "[ WARN:0@2016.098] global /io/opencv/modules/imgcodecs/src/loadsave.cpp (239) findDecoder imread_('/home/aaron/Desktop/Aaron/College-level_Applied_Research/GEI/270-00/04434.png'): can't open/read file: check file path/integrity\n",
      "[ WARN:0@2016.098] global /io/opencv/modules/imgcodecs/src/loadsave.cpp (239) findDecoder imread_('/home/aaron/Desktop/Aaron/College-level_Applied_Research/GEI/270-00/04435.png'): can't open/read file: check file path/integrity\n",
      "[ WARN:0@2016.098] global /io/opencv/modules/imgcodecs/src/loadsave.cpp (239) findDecoder imread_('/home/aaron/Desktop/Aaron/College-level_Applied_Research/GEI/270-00/04436.png'): can't open/read file: check file path/integrity\n",
      "[ WARN:0@2016.098] global /io/opencv/modules/imgcodecs/src/loadsave.cpp (239) findDecoder imread_('/home/aaron/Desktop/Aaron/College-level_Applied_Research/GEI/270-00/04437.png'): can't open/read file: check file path/integrity\n",
      "[ WARN:0@2016.098] global /io/opencv/modules/imgcodecs/src/loadsave.cpp (239) findDecoder imread_('/home/aaron/Desktop/Aaron/College-level_Applied_Research/GEI/270-00/04438.png'): can't open/read file: check file path/integrity\n",
      "[ WARN:0@2016.104] global /io/opencv/modules/imgcodecs/src/loadsave.cpp (239) findDecoder imread_('/home/aaron/Desktop/Aaron/College-level_Applied_Research/GEI/270-00/04441.png'): can't open/read file: check file path/integrity\n",
      "[ WARN:0@2016.112] global /io/opencv/modules/imgcodecs/src/loadsave.cpp (239) findDecoder imread_('/home/aaron/Desktop/Aaron/College-level_Applied_Research/GEI/270-00/04445.png'): can't open/read file: check file path/integrity\n",
      "[ WARN:0@2016.112] global /io/opencv/modules/imgcodecs/src/loadsave.cpp (239) findDecoder imread_('/home/aaron/Desktop/Aaron/College-level_Applied_Research/GEI/270-00/04446.png'): can't open/read file: check file path/integrity\n",
      "[ WARN:0@2016.112] global /io/opencv/modules/imgcodecs/src/loadsave.cpp (239) findDecoder imread_('/home/aaron/Desktop/Aaron/College-level_Applied_Research/GEI/270-00/04447.png'): can't open/read file: check file path/integrity\n",
      "[ WARN:0@2016.112] global /io/opencv/modules/imgcodecs/src/loadsave.cpp (239) findDecoder imread_('/home/aaron/Desktop/Aaron/College-level_Applied_Research/GEI/270-00/04448.png'): can't open/read file: check file path/integrity\n",
      "[ WARN:0@2016.112] global /io/opencv/modules/imgcodecs/src/loadsave.cpp (239) findDecoder imread_('/home/aaron/Desktop/Aaron/College-level_Applied_Research/GEI/270-00/04449.png'): can't open/read file: check file path/integrity\n",
      "[ WARN:0@2016.112] global /io/opencv/modules/imgcodecs/src/loadsave.cpp (239) findDecoder imread_('/home/aaron/Desktop/Aaron/College-level_Applied_Research/GEI/270-00/04450.png'): can't open/read file: check file path/integrity\n",
      "[ WARN:0@2016.112] global /io/opencv/modules/imgcodecs/src/loadsave.cpp (239) findDecoder imread_('/home/aaron/Desktop/Aaron/College-level_Applied_Research/GEI/270-00/04451.png'): can't open/read file: check file path/integrity\n",
      "[ WARN:0@2016.114] global /io/opencv/modules/imgcodecs/src/loadsave.cpp (239) findDecoder imread_('/home/aaron/Desktop/Aaron/College-level_Applied_Research/GEI/270-00/04453.png'): can't open/read file: check file path/integrity\n",
      "[ WARN:0@2016.114] global /io/opencv/modules/imgcodecs/src/loadsave.cpp (239) findDecoder imread_('/home/aaron/Desktop/Aaron/College-level_Applied_Research/GEI/270-00/04454.png'): can't open/read file: check file path/integrity\n",
      "[ WARN:0@2016.114] global /io/opencv/modules/imgcodecs/src/loadsave.cpp (239) findDecoder imread_('/home/aaron/Desktop/Aaron/College-level_Applied_Research/GEI/270-00/04455.png'): can't open/read file: check file path/integrity\n",
      "[ WARN:0@2016.114] global /io/opencv/modules/imgcodecs/src/loadsave.cpp (239) findDecoder imread_('/home/aaron/Desktop/Aaron/College-level_Applied_Research/GEI/270-00/04456.png'): can't open/read file: check file path/integrity\n",
      "[ WARN:0@2016.114] global /io/opencv/modules/imgcodecs/src/loadsave.cpp (239) findDecoder imread_('/home/aaron/Desktop/Aaron/College-level_Applied_Research/GEI/270-00/04457.png'): can't open/read file: check file path/integrity\n",
      "[ WARN:0@2016.114] global /io/opencv/modules/imgcodecs/src/loadsave.cpp (239) findDecoder imread_('/home/aaron/Desktop/Aaron/College-level_Applied_Research/GEI/270-00/04458.png'): can't open/read file: check file path/integrity\n",
      "[ WARN:0@2016.114] global /io/opencv/modules/imgcodecs/src/loadsave.cpp (239) findDecoder imread_('/home/aaron/Desktop/Aaron/College-level_Applied_Research/GEI/270-00/04459.png'): can't open/read file: check file path/integrity\n",
      "[ WARN:0@2016.118] global /io/opencv/modules/imgcodecs/src/loadsave.cpp (239) findDecoder imread_('/home/aaron/Desktop/Aaron/College-level_Applied_Research/GEI/270-00/04461.png'): can't open/read file: check file path/integrity\n"
     ]
    },
    {
     "name": "stderr",
     "output_type": "stream",
     "text": [
      "[ WARN:0@2016.121] global /io/opencv/modules/imgcodecs/src/loadsave.cpp (239) findDecoder imread_('/home/aaron/Desktop/Aaron/College-level_Applied_Research/GEI/270-00/04463.png'): can't open/read file: check file path/integrity\n",
      "[ WARN:0@2016.121] global /io/opencv/modules/imgcodecs/src/loadsave.cpp (239) findDecoder imread_('/home/aaron/Desktop/Aaron/College-level_Applied_Research/GEI/270-00/04464.png'): can't open/read file: check file path/integrity\n",
      "[ WARN:0@2016.122] global /io/opencv/modules/imgcodecs/src/loadsave.cpp (239) findDecoder imread_('/home/aaron/Desktop/Aaron/College-level_Applied_Research/GEI/270-00/04465.png'): can't open/read file: check file path/integrity\n",
      "[ WARN:0@2016.122] global /io/opencv/modules/imgcodecs/src/loadsave.cpp (239) findDecoder imread_('/home/aaron/Desktop/Aaron/College-level_Applied_Research/GEI/270-00/04466.png'): can't open/read file: check file path/integrity\n",
      "[ WARN:0@2016.122] global /io/opencv/modules/imgcodecs/src/loadsave.cpp (239) findDecoder imread_('/home/aaron/Desktop/Aaron/College-level_Applied_Research/GEI/270-00/04467.png'): can't open/read file: check file path/integrity\n",
      "[ WARN:0@2016.122] global /io/opencv/modules/imgcodecs/src/loadsave.cpp (239) findDecoder imread_('/home/aaron/Desktop/Aaron/College-level_Applied_Research/GEI/270-00/04468.png'): can't open/read file: check file path/integrity\n",
      "[ WARN:0@2016.122] global /io/opencv/modules/imgcodecs/src/loadsave.cpp (239) findDecoder imread_('/home/aaron/Desktop/Aaron/College-level_Applied_Research/GEI/270-00/04469.png'): can't open/read file: check file path/integrity\n",
      "[ WARN:0@2016.122] global /io/opencv/modules/imgcodecs/src/loadsave.cpp (239) findDecoder imread_('/home/aaron/Desktop/Aaron/College-level_Applied_Research/GEI/270-00/04470.png'): can't open/read file: check file path/integrity\n",
      "[ WARN:0@2016.122] global /io/opencv/modules/imgcodecs/src/loadsave.cpp (239) findDecoder imread_('/home/aaron/Desktop/Aaron/College-level_Applied_Research/GEI/270-00/04471.png'): can't open/read file: check file path/integrity\n",
      "[ WARN:0@2016.122] global /io/opencv/modules/imgcodecs/src/loadsave.cpp (239) findDecoder imread_('/home/aaron/Desktop/Aaron/College-level_Applied_Research/GEI/270-00/04472.png'): can't open/read file: check file path/integrity\n",
      "[ WARN:0@2016.122] global /io/opencv/modules/imgcodecs/src/loadsave.cpp (239) findDecoder imread_('/home/aaron/Desktop/Aaron/College-level_Applied_Research/GEI/270-00/04473.png'): can't open/read file: check file path/integrity\n",
      "[ WARN:0@2016.122] global /io/opencv/modules/imgcodecs/src/loadsave.cpp (239) findDecoder imread_('/home/aaron/Desktop/Aaron/College-level_Applied_Research/GEI/270-00/04474.png'): can't open/read file: check file path/integrity\n",
      "[ WARN:0@2016.122] global /io/opencv/modules/imgcodecs/src/loadsave.cpp (239) findDecoder imread_('/home/aaron/Desktop/Aaron/College-level_Applied_Research/GEI/270-00/04475.png'): can't open/read file: check file path/integrity\n",
      "[ WARN:0@2016.126] global /io/opencv/modules/imgcodecs/src/loadsave.cpp (239) findDecoder imread_('/home/aaron/Desktop/Aaron/College-level_Applied_Research/GEI/270-00/04477.png'): can't open/read file: check file path/integrity\n",
      "[ WARN:0@2016.126] global /io/opencv/modules/imgcodecs/src/loadsave.cpp (239) findDecoder imread_('/home/aaron/Desktop/Aaron/College-level_Applied_Research/GEI/270-00/04478.png'): can't open/read file: check file path/integrity\n",
      "[ WARN:0@2016.126] global /io/opencv/modules/imgcodecs/src/loadsave.cpp (239) findDecoder imread_('/home/aaron/Desktop/Aaron/College-level_Applied_Research/GEI/270-00/04479.png'): can't open/read file: check file path/integrity\n",
      "[ WARN:0@2016.129] global /io/opencv/modules/imgcodecs/src/loadsave.cpp (239) findDecoder imread_('/home/aaron/Desktop/Aaron/College-level_Applied_Research/GEI/270-00/04481.png'): can't open/read file: check file path/integrity\n",
      "[ WARN:0@2016.129] global /io/opencv/modules/imgcodecs/src/loadsave.cpp (239) findDecoder imread_('/home/aaron/Desktop/Aaron/College-level_Applied_Research/GEI/270-00/04482.png'): can't open/read file: check file path/integrity\n",
      "[ WARN:0@2016.132] global /io/opencv/modules/imgcodecs/src/loadsave.cpp (239) findDecoder imread_('/home/aaron/Desktop/Aaron/College-level_Applied_Research/GEI/270-00/04484.png'): can't open/read file: check file path/integrity\n",
      "[ WARN:0@2016.132] global /io/opencv/modules/imgcodecs/src/loadsave.cpp (239) findDecoder imread_('/home/aaron/Desktop/Aaron/College-level_Applied_Research/GEI/270-00/04485.png'): can't open/read file: check file path/integrity\n",
      "[ WARN:0@2016.132] global /io/opencv/modules/imgcodecs/src/loadsave.cpp (239) findDecoder imread_('/home/aaron/Desktop/Aaron/College-level_Applied_Research/GEI/270-00/04486.png'): can't open/read file: check file path/integrity\n",
      "[ WARN:0@2016.138] global /io/opencv/modules/imgcodecs/src/loadsave.cpp (239) findDecoder imread_('/home/aaron/Desktop/Aaron/College-level_Applied_Research/GEI/270-00/04489.png'): can't open/read file: check file path/integrity\n",
      "[ WARN:0@2016.138] global /io/opencv/modules/imgcodecs/src/loadsave.cpp (239) findDecoder imread_('/home/aaron/Desktop/Aaron/College-level_Applied_Research/GEI/270-00/04490.png'): can't open/read file: check file path/integrity\n",
      "[ WARN:0@2016.140] global /io/opencv/modules/imgcodecs/src/loadsave.cpp (239) findDecoder imread_('/home/aaron/Desktop/Aaron/College-level_Applied_Research/GEI/270-00/04492.png'): can't open/read file: check file path/integrity\n",
      "[ WARN:0@2016.143] global /io/opencv/modules/imgcodecs/src/loadsave.cpp (239) findDecoder imread_('/home/aaron/Desktop/Aaron/College-level_Applied_Research/GEI/270-00/04494.png'): can't open/read file: check file path/integrity\n",
      "[ WARN:0@2016.143] global /io/opencv/modules/imgcodecs/src/loadsave.cpp (239) findDecoder imread_('/home/aaron/Desktop/Aaron/College-level_Applied_Research/GEI/270-00/04495.png'): can't open/read file: check file path/integrity\n",
      "[ WARN:0@2016.146] global /io/opencv/modules/imgcodecs/src/loadsave.cpp (239) findDecoder imread_('/home/aaron/Desktop/Aaron/College-level_Applied_Research/GEI/270-00/04497.png'): can't open/read file: check file path/integrity\n",
      "[ WARN:0@2016.148] global /io/opencv/modules/imgcodecs/src/loadsave.cpp (239) findDecoder imread_('/home/aaron/Desktop/Aaron/College-level_Applied_Research/GEI/270-00/04499.png'): can't open/read file: check file path/integrity\n",
      "[ WARN:0@2016.148] global /io/opencv/modules/imgcodecs/src/loadsave.cpp (239) findDecoder imread_('/home/aaron/Desktop/Aaron/College-level_Applied_Research/GEI/270-00/04500.png'): can't open/read file: check file path/integrity\n",
      "[ WARN:0@2016.148] global /io/opencv/modules/imgcodecs/src/loadsave.cpp (239) findDecoder imread_('/home/aaron/Desktop/Aaron/College-level_Applied_Research/GEI/270-00/04501.png'): can't open/read file: check file path/integrity\n",
      "[ WARN:0@2016.148] global /io/opencv/modules/imgcodecs/src/loadsave.cpp (239) findDecoder imread_('/home/aaron/Desktop/Aaron/College-level_Applied_Research/GEI/270-00/04502.png'): can't open/read file: check file path/integrity\n",
      "[ WARN:0@2016.151] global /io/opencv/modules/imgcodecs/src/loadsave.cpp (239) findDecoder imread_('/home/aaron/Desktop/Aaron/College-level_Applied_Research/GEI/270-00/04504.png'): can't open/read file: check file path/integrity\n",
      "[ WARN:0@2016.154] global /io/opencv/modules/imgcodecs/src/loadsave.cpp (239) findDecoder imread_('/home/aaron/Desktop/Aaron/College-level_Applied_Research/GEI/270-00/04506.png'): can't open/read file: check file path/integrity\n",
      "[ WARN:0@2016.154] global /io/opencv/modules/imgcodecs/src/loadsave.cpp (239) findDecoder imread_('/home/aaron/Desktop/Aaron/College-level_Applied_Research/GEI/270-00/04507.png'): can't open/read file: check file path/integrity\n",
      "[ WARN:0@2016.157] global /io/opencv/modules/imgcodecs/src/loadsave.cpp (239) findDecoder imread_('/home/aaron/Desktop/Aaron/College-level_Applied_Research/GEI/270-00/04509.png'): can't open/read file: check file path/integrity\n",
      "[ WARN:0@2016.157] global /io/opencv/modules/imgcodecs/src/loadsave.cpp (239) findDecoder imread_('/home/aaron/Desktop/Aaron/College-level_Applied_Research/GEI/270-00/04510.png'): can't open/read file: check file path/integrity\n",
      "[ WARN:0@2016.157] global /io/opencv/modules/imgcodecs/src/loadsave.cpp (239) findDecoder imread_('/home/aaron/Desktop/Aaron/College-level_Applied_Research/GEI/270-00/04511.png'): can't open/read file: check file path/integrity\n",
      "[ WARN:0@2016.157] global /io/opencv/modules/imgcodecs/src/loadsave.cpp (239) findDecoder imread_('/home/aaron/Desktop/Aaron/College-level_Applied_Research/GEI/270-00/04512.png'): can't open/read file: check file path/integrity\n",
      "[ WARN:0@2016.157] global /io/opencv/modules/imgcodecs/src/loadsave.cpp (239) findDecoder imread_('/home/aaron/Desktop/Aaron/College-level_Applied_Research/GEI/270-00/04513.png'): can't open/read file: check file path/integrity\n",
      "[ WARN:0@2016.157] global /io/opencv/modules/imgcodecs/src/loadsave.cpp (239) findDecoder imread_('/home/aaron/Desktop/Aaron/College-level_Applied_Research/GEI/270-00/04514.png'): can't open/read file: check file path/integrity\n",
      "[ WARN:0@2016.159] global /io/opencv/modules/imgcodecs/src/loadsave.cpp (239) findDecoder imread_('/home/aaron/Desktop/Aaron/College-level_Applied_Research/GEI/270-00/04516.png'): can't open/read file: check file path/integrity\n",
      "[ WARN:0@2016.159] global /io/opencv/modules/imgcodecs/src/loadsave.cpp (239) findDecoder imread_('/home/aaron/Desktop/Aaron/College-level_Applied_Research/GEI/270-00/04517.png'): can't open/read file: check file path/integrity\n",
      "[ WARN:0@2016.159] global /io/opencv/modules/imgcodecs/src/loadsave.cpp (239) findDecoder imread_('/home/aaron/Desktop/Aaron/College-level_Applied_Research/GEI/270-00/04518.png'): can't open/read file: check file path/integrity\n",
      "[ WARN:0@2016.159] global /io/opencv/modules/imgcodecs/src/loadsave.cpp (239) findDecoder imread_('/home/aaron/Desktop/Aaron/College-level_Applied_Research/GEI/270-00/04519.png'): can't open/read file: check file path/integrity\n",
      "[ WARN:0@2016.162] global /io/opencv/modules/imgcodecs/src/loadsave.cpp (239) findDecoder imread_('/home/aaron/Desktop/Aaron/College-level_Applied_Research/GEI/270-00/04521.png'): can't open/read file: check file path/integrity\n",
      "[ WARN:0@2016.162] global /io/opencv/modules/imgcodecs/src/loadsave.cpp (239) findDecoder imread_('/home/aaron/Desktop/Aaron/College-level_Applied_Research/GEI/270-00/04522.png'): can't open/read file: check file path/integrity\n",
      "[ WARN:0@2016.162] global /io/opencv/modules/imgcodecs/src/loadsave.cpp (239) findDecoder imread_('/home/aaron/Desktop/Aaron/College-level_Applied_Research/GEI/270-00/04523.png'): can't open/read file: check file path/integrity\n",
      "[ WARN:0@2016.162] global /io/opencv/modules/imgcodecs/src/loadsave.cpp (239) findDecoder imread_('/home/aaron/Desktop/Aaron/College-level_Applied_Research/GEI/270-00/04524.png'): can't open/read file: check file path/integrity\n",
      "[ WARN:0@2016.172] global /io/opencv/modules/imgcodecs/src/loadsave.cpp (239) findDecoder imread_('/home/aaron/Desktop/Aaron/College-level_Applied_Research/GEI/270-00/04529.png'): can't open/read file: check file path/integrity\n",
      "[ WARN:0@2016.177] global /io/opencv/modules/imgcodecs/src/loadsave.cpp (239) findDecoder imread_('/home/aaron/Desktop/Aaron/College-level_Applied_Research/GEI/270-00/04532.png'): can't open/read file: check file path/integrity\n",
      "[ WARN:0@2016.178] global /io/opencv/modules/imgcodecs/src/loadsave.cpp (239) findDecoder imread_('/home/aaron/Desktop/Aaron/College-level_Applied_Research/GEI/270-00/04533.png'): can't open/read file: check file path/integrity\n",
      "[ WARN:0@2016.178] global /io/opencv/modules/imgcodecs/src/loadsave.cpp (239) findDecoder imread_('/home/aaron/Desktop/Aaron/College-level_Applied_Research/GEI/270-00/04534.png'): can't open/read file: check file path/integrity\n",
      "[ WARN:0@2016.178] global /io/opencv/modules/imgcodecs/src/loadsave.cpp (239) findDecoder imread_('/home/aaron/Desktop/Aaron/College-level_Applied_Research/GEI/270-00/04535.png'): can't open/read file: check file path/integrity\n",
      "[ WARN:0@2016.178] global /io/opencv/modules/imgcodecs/src/loadsave.cpp (239) findDecoder imread_('/home/aaron/Desktop/Aaron/College-level_Applied_Research/GEI/270-00/04536.png'): can't open/read file: check file path/integrity\n",
      "[ WARN:0@2016.178] global /io/opencv/modules/imgcodecs/src/loadsave.cpp (239) findDecoder imread_('/home/aaron/Desktop/Aaron/College-level_Applied_Research/GEI/270-00/04537.png'): can't open/read file: check file path/integrity\n",
      "[ WARN:0@2016.178] global /io/opencv/modules/imgcodecs/src/loadsave.cpp (239) findDecoder imread_('/home/aaron/Desktop/Aaron/College-level_Applied_Research/GEI/270-00/04538.png'): can't open/read file: check file path/integrity\n",
      "[ WARN:0@2016.180] global /io/opencv/modules/imgcodecs/src/loadsave.cpp (239) findDecoder imread_('/home/aaron/Desktop/Aaron/College-level_Applied_Research/GEI/270-00/04540.png'): can't open/read file: check file path/integrity\n",
      "[ WARN:0@2016.180] global /io/opencv/modules/imgcodecs/src/loadsave.cpp (239) findDecoder imread_('/home/aaron/Desktop/Aaron/College-level_Applied_Research/GEI/270-00/04541.png'): can't open/read file: check file path/integrity\n",
      "[ WARN:0@2016.180] global /io/opencv/modules/imgcodecs/src/loadsave.cpp (239) findDecoder imread_('/home/aaron/Desktop/Aaron/College-level_Applied_Research/GEI/270-00/04542.png'): can't open/read file: check file path/integrity\n",
      "[ WARN:0@2016.180] global /io/opencv/modules/imgcodecs/src/loadsave.cpp (239) findDecoder imread_('/home/aaron/Desktop/Aaron/College-level_Applied_Research/GEI/270-00/04543.png'): can't open/read file: check file path/integrity\n",
      "[ WARN:0@2016.180] global /io/opencv/modules/imgcodecs/src/loadsave.cpp (239) findDecoder imread_('/home/aaron/Desktop/Aaron/College-level_Applied_Research/GEI/270-00/04544.png'): can't open/read file: check file path/integrity\n",
      "[ WARN:0@2016.180] global /io/opencv/modules/imgcodecs/src/loadsave.cpp (239) findDecoder imread_('/home/aaron/Desktop/Aaron/College-level_Applied_Research/GEI/270-00/04545.png'): can't open/read file: check file path/integrity\n",
      "[ WARN:0@2016.180] global /io/opencv/modules/imgcodecs/src/loadsave.cpp (239) findDecoder imread_('/home/aaron/Desktop/Aaron/College-level_Applied_Research/GEI/270-00/04546.png'): can't open/read file: check file path/integrity\n",
      "[ WARN:0@2016.180] global /io/opencv/modules/imgcodecs/src/loadsave.cpp (239) findDecoder imread_('/home/aaron/Desktop/Aaron/College-level_Applied_Research/GEI/270-00/04547.png'): can't open/read file: check file path/integrity\n",
      "[ WARN:0@2016.180] global /io/opencv/modules/imgcodecs/src/loadsave.cpp (239) findDecoder imread_('/home/aaron/Desktop/Aaron/College-level_Applied_Research/GEI/270-00/04548.png'): can't open/read file: check file path/integrity\n",
      "[ WARN:0@2016.180] global /io/opencv/modules/imgcodecs/src/loadsave.cpp (239) findDecoder imread_('/home/aaron/Desktop/Aaron/College-level_Applied_Research/GEI/270-00/04549.png'): can't open/read file: check file path/integrity\n",
      "[ WARN:0@2016.183] global /io/opencv/modules/imgcodecs/src/loadsave.cpp (239) findDecoder imread_('/home/aaron/Desktop/Aaron/College-level_Applied_Research/GEI/270-00/04551.png'): can't open/read file: check file path/integrity\n",
      "[ WARN:0@2016.183] global /io/opencv/modules/imgcodecs/src/loadsave.cpp (239) findDecoder imread_('/home/aaron/Desktop/Aaron/College-level_Applied_Research/GEI/270-00/04552.png'): can't open/read file: check file path/integrity\n",
      "[ WARN:0@2016.185] global /io/opencv/modules/imgcodecs/src/loadsave.cpp (239) findDecoder imread_('/home/aaron/Desktop/Aaron/College-level_Applied_Research/GEI/270-00/04554.png'): can't open/read file: check file path/integrity\n",
      "[ WARN:0@2016.185] global /io/opencv/modules/imgcodecs/src/loadsave.cpp (239) findDecoder imread_('/home/aaron/Desktop/Aaron/College-level_Applied_Research/GEI/270-00/04555.png'): can't open/read file: check file path/integrity\n",
      "[ WARN:0@2016.185] global /io/opencv/modules/imgcodecs/src/loadsave.cpp (239) findDecoder imread_('/home/aaron/Desktop/Aaron/College-level_Applied_Research/GEI/270-00/04556.png'): can't open/read file: check file path/integrity\n",
      "[ WARN:0@2016.185] global /io/opencv/modules/imgcodecs/src/loadsave.cpp (239) findDecoder imread_('/home/aaron/Desktop/Aaron/College-level_Applied_Research/GEI/270-00/04557.png'): can't open/read file: check file path/integrity\n",
      "[ WARN:0@2016.188] global /io/opencv/modules/imgcodecs/src/loadsave.cpp (239) findDecoder imread_('/home/aaron/Desktop/Aaron/College-level_Applied_Research/GEI/270-00/04559.png'): can't open/read file: check file path/integrity\n",
      "[ WARN:0@2016.190] global /io/opencv/modules/imgcodecs/src/loadsave.cpp (239) findDecoder imread_('/home/aaron/Desktop/Aaron/College-level_Applied_Research/GEI/270-00/04561.png'): can't open/read file: check file path/integrity\n",
      "[ WARN:0@2016.190] global /io/opencv/modules/imgcodecs/src/loadsave.cpp (239) findDecoder imread_('/home/aaron/Desktop/Aaron/College-level_Applied_Research/GEI/270-00/04562.png'): can't open/read file: check file path/integrity\n",
      "[ WARN:0@2016.190] global /io/opencv/modules/imgcodecs/src/loadsave.cpp (239) findDecoder imread_('/home/aaron/Desktop/Aaron/College-level_Applied_Research/GEI/270-00/04563.png'): can't open/read file: check file path/integrity\n",
      "[ WARN:0@2016.193] global /io/opencv/modules/imgcodecs/src/loadsave.cpp (239) findDecoder imread_('/home/aaron/Desktop/Aaron/College-level_Applied_Research/GEI/270-00/04565.png'): can't open/read file: check file path/integrity\n",
      "[ WARN:0@2016.195] global /io/opencv/modules/imgcodecs/src/loadsave.cpp (239) findDecoder imread_('/home/aaron/Desktop/Aaron/College-level_Applied_Research/GEI/270-00/04567.png'): can't open/read file: check file path/integrity\n",
      "[ WARN:0@2016.195] global /io/opencv/modules/imgcodecs/src/loadsave.cpp (239) findDecoder imread_('/home/aaron/Desktop/Aaron/College-level_Applied_Research/GEI/270-00/04568.png'): can't open/read file: check file path/integrity\n",
      "[ WARN:0@2016.195] global /io/opencv/modules/imgcodecs/src/loadsave.cpp (239) findDecoder imread_('/home/aaron/Desktop/Aaron/College-level_Applied_Research/GEI/270-00/04569.png'): can't open/read file: check file path/integrity\n",
      "[ WARN:0@2016.195] global /io/opencv/modules/imgcodecs/src/loadsave.cpp (239) findDecoder imread_('/home/aaron/Desktop/Aaron/College-level_Applied_Research/GEI/270-00/04570.png'): can't open/read file: check file path/integrity\n",
      "[ WARN:0@2016.195] global /io/opencv/modules/imgcodecs/src/loadsave.cpp (239) findDecoder imread_('/home/aaron/Desktop/Aaron/College-level_Applied_Research/GEI/270-00/04571.png'): can't open/read file: check file path/integrity\n",
      "[ WARN:0@2016.195] global /io/opencv/modules/imgcodecs/src/loadsave.cpp (239) findDecoder imread_('/home/aaron/Desktop/Aaron/College-level_Applied_Research/GEI/270-00/04572.png'): can't open/read file: check file path/integrity\n",
      "[ WARN:0@2016.201] global /io/opencv/modules/imgcodecs/src/loadsave.cpp (239) findDecoder imread_('/home/aaron/Desktop/Aaron/College-level_Applied_Research/GEI/270-00/04575.png'): can't open/read file: check file path/integrity\n",
      "[ WARN:0@2016.201] global /io/opencv/modules/imgcodecs/src/loadsave.cpp (239) findDecoder imread_('/home/aaron/Desktop/Aaron/College-level_Applied_Research/GEI/270-00/04576.png'): can't open/read file: check file path/integrity\n",
      "[ WARN:0@2016.201] global /io/opencv/modules/imgcodecs/src/loadsave.cpp (239) findDecoder imread_('/home/aaron/Desktop/Aaron/College-level_Applied_Research/GEI/270-00/04577.png'): can't open/read file: check file path/integrity\n",
      "[ WARN:0@2016.201] global /io/opencv/modules/imgcodecs/src/loadsave.cpp (239) findDecoder imread_('/home/aaron/Desktop/Aaron/College-level_Applied_Research/GEI/270-00/04578.png'): can't open/read file: check file path/integrity\n",
      "[ WARN:0@2016.201] global /io/opencv/modules/imgcodecs/src/loadsave.cpp (239) findDecoder imread_('/home/aaron/Desktop/Aaron/College-level_Applied_Research/GEI/270-00/04579.png'): can't open/read file: check file path/integrity\n",
      "[ WARN:0@2016.203] global /io/opencv/modules/imgcodecs/src/loadsave.cpp (239) findDecoder imread_('/home/aaron/Desktop/Aaron/College-level_Applied_Research/GEI/270-00/04581.png'): can't open/read file: check file path/integrity\n",
      "[ WARN:0@2016.208] global /io/opencv/modules/imgcodecs/src/loadsave.cpp (239) findDecoder imread_('/home/aaron/Desktop/Aaron/College-level_Applied_Research/GEI/270-00/04584.png'): can't open/read file: check file path/integrity\n",
      "[ WARN:0@2016.208] global /io/opencv/modules/imgcodecs/src/loadsave.cpp (239) findDecoder imread_('/home/aaron/Desktop/Aaron/College-level_Applied_Research/GEI/270-00/04585.png'): can't open/read file: check file path/integrity\n",
      "[ WARN:0@2016.208] global /io/opencv/modules/imgcodecs/src/loadsave.cpp (239) findDecoder imread_('/home/aaron/Desktop/Aaron/College-level_Applied_Research/GEI/270-00/04586.png'): can't open/read file: check file path/integrity\n",
      "[ WARN:0@2016.216] global /io/opencv/modules/imgcodecs/src/loadsave.cpp (239) findDecoder imread_('/home/aaron/Desktop/Aaron/College-level_Applied_Research/GEI/270-00/04590.png'): can't open/read file: check file path/integrity\n",
      "[ WARN:0@2016.216] global /io/opencv/modules/imgcodecs/src/loadsave.cpp (239) findDecoder imread_('/home/aaron/Desktop/Aaron/College-level_Applied_Research/GEI/270-00/04591.png'): can't open/read file: check file path/integrity\n",
      "[ WARN:0@2016.216] global /io/opencv/modules/imgcodecs/src/loadsave.cpp (239) findDecoder imread_('/home/aaron/Desktop/Aaron/College-level_Applied_Research/GEI/270-00/04592.png'): can't open/read file: check file path/integrity\n",
      "[ WARN:0@2016.218] global /io/opencv/modules/imgcodecs/src/loadsave.cpp (239) findDecoder imread_('/home/aaron/Desktop/Aaron/College-level_Applied_Research/GEI/270-00/04594.png'): can't open/read file: check file path/integrity\n",
      "[ WARN:0@2016.218] global /io/opencv/modules/imgcodecs/src/loadsave.cpp (239) findDecoder imread_('/home/aaron/Desktop/Aaron/College-level_Applied_Research/GEI/270-00/04595.png'): can't open/read file: check file path/integrity\n",
      "[ WARN:0@2016.218] global /io/opencv/modules/imgcodecs/src/loadsave.cpp (239) findDecoder imread_('/home/aaron/Desktop/Aaron/College-level_Applied_Research/GEI/270-00/04596.png'): can't open/read file: check file path/integrity\n",
      "[ WARN:0@2016.221] global /io/opencv/modules/imgcodecs/src/loadsave.cpp (239) findDecoder imread_('/home/aaron/Desktop/Aaron/College-level_Applied_Research/GEI/270-00/04598.png'): can't open/read file: check file path/integrity\n",
      "[ WARN:0@2016.221] global /io/opencv/modules/imgcodecs/src/loadsave.cpp (239) findDecoder imread_('/home/aaron/Desktop/Aaron/College-level_Applied_Research/GEI/270-00/04599.png'): can't open/read file: check file path/integrity\n",
      "[ WARN:0@2016.221] global /io/opencv/modules/imgcodecs/src/loadsave.cpp (239) findDecoder imread_('/home/aaron/Desktop/Aaron/College-level_Applied_Research/GEI/270-00/04600.png'): can't open/read file: check file path/integrity\n",
      "[ WARN:0@2016.221] global /io/opencv/modules/imgcodecs/src/loadsave.cpp (239) findDecoder imread_('/home/aaron/Desktop/Aaron/College-level_Applied_Research/GEI/270-00/04601.png'): can't open/read file: check file path/integrity\n",
      "[ WARN:0@2016.221] global /io/opencv/modules/imgcodecs/src/loadsave.cpp (239) findDecoder imread_('/home/aaron/Desktop/Aaron/College-level_Applied_Research/GEI/270-00/04602.png'): can't open/read file: check file path/integrity\n",
      "[ WARN:0@2016.224] global /io/opencv/modules/imgcodecs/src/loadsave.cpp (239) findDecoder imread_('/home/aaron/Desktop/Aaron/College-level_Applied_Research/GEI/270-00/04604.png'): can't open/read file: check file path/integrity\n",
      "[ WARN:0@2016.224] global /io/opencv/modules/imgcodecs/src/loadsave.cpp (239) findDecoder imread_('/home/aaron/Desktop/Aaron/College-level_Applied_Research/GEI/270-00/04605.png'): can't open/read file: check file path/integrity\n",
      "[ WARN:0@2016.226] global /io/opencv/modules/imgcodecs/src/loadsave.cpp (239) findDecoder imread_('/home/aaron/Desktop/Aaron/College-level_Applied_Research/GEI/270-00/04607.png'): can't open/read file: check file path/integrity\n",
      "[ WARN:0@2016.226] global /io/opencv/modules/imgcodecs/src/loadsave.cpp (239) findDecoder imread_('/home/aaron/Desktop/Aaron/College-level_Applied_Research/GEI/270-00/04608.png'): can't open/read file: check file path/integrity\n",
      "[ WARN:0@2016.226] global /io/opencv/modules/imgcodecs/src/loadsave.cpp (239) findDecoder imread_('/home/aaron/Desktop/Aaron/College-level_Applied_Research/GEI/270-00/04609.png'): can't open/read file: check file path/integrity\n",
      "[ WARN:0@2016.226] global /io/opencv/modules/imgcodecs/src/loadsave.cpp (239) findDecoder imread_('/home/aaron/Desktop/Aaron/College-level_Applied_Research/GEI/270-00/04610.png'): can't open/read file: check file path/integrity\n",
      "[ WARN:0@2016.226] global /io/opencv/modules/imgcodecs/src/loadsave.cpp (239) findDecoder imread_('/home/aaron/Desktop/Aaron/College-level_Applied_Research/GEI/270-00/04611.png'): can't open/read file: check file path/integrity\n",
      "[ WARN:0@2016.229] global /io/opencv/modules/imgcodecs/src/loadsave.cpp (239) findDecoder imread_('/home/aaron/Desktop/Aaron/College-level_Applied_Research/GEI/270-00/04613.png'): can't open/read file: check file path/integrity\n",
      "[ WARN:0@2016.229] global /io/opencv/modules/imgcodecs/src/loadsave.cpp (239) findDecoder imread_('/home/aaron/Desktop/Aaron/College-level_Applied_Research/GEI/270-00/04614.png'): can't open/read file: check file path/integrity\n",
      "[ WARN:0@2016.229] global /io/opencv/modules/imgcodecs/src/loadsave.cpp (239) findDecoder imread_('/home/aaron/Desktop/Aaron/College-level_Applied_Research/GEI/270-00/04615.png'): can't open/read file: check file path/integrity\n",
      "[ WARN:0@2016.229] global /io/opencv/modules/imgcodecs/src/loadsave.cpp (239) findDecoder imread_('/home/aaron/Desktop/Aaron/College-level_Applied_Research/GEI/270-00/04616.png'): can't open/read file: check file path/integrity\n",
      "[ WARN:0@2016.229] global /io/opencv/modules/imgcodecs/src/loadsave.cpp (239) findDecoder imread_('/home/aaron/Desktop/Aaron/College-level_Applied_Research/GEI/270-00/04617.png'): can't open/read file: check file path/integrity\n",
      "[ WARN:0@2016.229] global /io/opencv/modules/imgcodecs/src/loadsave.cpp (239) findDecoder imread_('/home/aaron/Desktop/Aaron/College-level_Applied_Research/GEI/270-00/04618.png'): can't open/read file: check file path/integrity\n",
      "[ WARN:0@2016.229] global /io/opencv/modules/imgcodecs/src/loadsave.cpp (239) findDecoder imread_('/home/aaron/Desktop/Aaron/College-level_Applied_Research/GEI/270-00/04619.png'): can't open/read file: check file path/integrity\n",
      "[ WARN:0@2016.229] global /io/opencv/modules/imgcodecs/src/loadsave.cpp (239) findDecoder imread_('/home/aaron/Desktop/Aaron/College-level_Applied_Research/GEI/270-00/04620.png'): can't open/read file: check file path/integrity\n",
      "[ WARN:0@2016.229] global /io/opencv/modules/imgcodecs/src/loadsave.cpp (239) findDecoder imread_('/home/aaron/Desktop/Aaron/College-level_Applied_Research/GEI/270-00/04621.png'): can't open/read file: check file path/integrity\n",
      "[ WARN:0@2016.234] global /io/opencv/modules/imgcodecs/src/loadsave.cpp (239) findDecoder imread_('/home/aaron/Desktop/Aaron/College-level_Applied_Research/GEI/270-00/04624.png'): can't open/read file: check file path/integrity\n",
      "[ WARN:0@2016.234] global /io/opencv/modules/imgcodecs/src/loadsave.cpp (239) findDecoder imread_('/home/aaron/Desktop/Aaron/College-level_Applied_Research/GEI/270-00/04625.png'): can't open/read file: check file path/integrity\n",
      "[ WARN:0@2016.234] global /io/opencv/modules/imgcodecs/src/loadsave.cpp (239) findDecoder imread_('/home/aaron/Desktop/Aaron/College-level_Applied_Research/GEI/270-00/04626.png'): can't open/read file: check file path/integrity\n",
      "[ WARN:0@2016.234] global /io/opencv/modules/imgcodecs/src/loadsave.cpp (239) findDecoder imread_('/home/aaron/Desktop/Aaron/College-level_Applied_Research/GEI/270-00/04627.png'): can't open/read file: check file path/integrity\n",
      "[ WARN:0@2016.234] global /io/opencv/modules/imgcodecs/src/loadsave.cpp (239) findDecoder imread_('/home/aaron/Desktop/Aaron/College-level_Applied_Research/GEI/270-00/04628.png'): can't open/read file: check file path/integrity\n",
      "[ WARN:0@2016.234] global /io/opencv/modules/imgcodecs/src/loadsave.cpp (239) findDecoder imread_('/home/aaron/Desktop/Aaron/College-level_Applied_Research/GEI/270-00/04629.png'): can't open/read file: check file path/integrity\n",
      "[ WARN:0@2016.234] global /io/opencv/modules/imgcodecs/src/loadsave.cpp (239) findDecoder imread_('/home/aaron/Desktop/Aaron/College-level_Applied_Research/GEI/270-00/04630.png'): can't open/read file: check file path/integrity\n",
      "[ WARN:0@2016.234] global /io/opencv/modules/imgcodecs/src/loadsave.cpp (239) findDecoder imread_('/home/aaron/Desktop/Aaron/College-level_Applied_Research/GEI/270-00/04631.png'): can't open/read file: check file path/integrity\n",
      "[ WARN:0@2016.234] global /io/opencv/modules/imgcodecs/src/loadsave.cpp (239) findDecoder imread_('/home/aaron/Desktop/Aaron/College-level_Applied_Research/GEI/270-00/04632.png'): can't open/read file: check file path/integrity\n",
      "[ WARN:0@2016.234] global /io/opencv/modules/imgcodecs/src/loadsave.cpp (239) findDecoder imread_('/home/aaron/Desktop/Aaron/College-level_Applied_Research/GEI/270-00/04633.png'): can't open/read file: check file path/integrity\n",
      "[ WARN:0@2016.234] global /io/opencv/modules/imgcodecs/src/loadsave.cpp (239) findDecoder imread_('/home/aaron/Desktop/Aaron/College-level_Applied_Research/GEI/270-00/04634.png'): can't open/read file: check file path/integrity\n",
      "[ WARN:0@2016.234] global /io/opencv/modules/imgcodecs/src/loadsave.cpp (239) findDecoder imread_('/home/aaron/Desktop/Aaron/College-level_Applied_Research/GEI/270-00/04635.png'): can't open/read file: check file path/integrity\n",
      "[ WARN:0@2016.234] global /io/opencv/modules/imgcodecs/src/loadsave.cpp (239) findDecoder imread_('/home/aaron/Desktop/Aaron/College-level_Applied_Research/GEI/270-00/04636.png'): can't open/read file: check file path/integrity\n",
      "[ WARN:0@2016.234] global /io/opencv/modules/imgcodecs/src/loadsave.cpp (239) findDecoder imread_('/home/aaron/Desktop/Aaron/College-level_Applied_Research/GEI/270-00/04637.png'): can't open/read file: check file path/integrity\n",
      "[ WARN:0@2016.234] global /io/opencv/modules/imgcodecs/src/loadsave.cpp (239) findDecoder imread_('/home/aaron/Desktop/Aaron/College-level_Applied_Research/GEI/270-00/04638.png'): can't open/read file: check file path/integrity\n",
      "[ WARN:0@2016.234] global /io/opencv/modules/imgcodecs/src/loadsave.cpp (239) findDecoder imread_('/home/aaron/Desktop/Aaron/College-level_Applied_Research/GEI/270-00/04639.png'): can't open/read file: check file path/integrity\n",
      "[ WARN:0@2016.234] global /io/opencv/modules/imgcodecs/src/loadsave.cpp (239) findDecoder imread_('/home/aaron/Desktop/Aaron/College-level_Applied_Research/GEI/270-00/04640.png'): can't open/read file: check file path/integrity\n",
      "[ WARN:0@2016.234] global /io/opencv/modules/imgcodecs/src/loadsave.cpp (239) findDecoder imread_('/home/aaron/Desktop/Aaron/College-level_Applied_Research/GEI/270-00/04641.png'): can't open/read file: check file path/integrity\n",
      "[ WARN:0@2016.234] global /io/opencv/modules/imgcodecs/src/loadsave.cpp (239) findDecoder imread_('/home/aaron/Desktop/Aaron/College-level_Applied_Research/GEI/270-00/04642.png'): can't open/read file: check file path/integrity\n",
      "[ WARN:0@2016.234] global /io/opencv/modules/imgcodecs/src/loadsave.cpp (239) findDecoder imread_('/home/aaron/Desktop/Aaron/College-level_Applied_Research/GEI/270-00/04643.png'): can't open/read file: check file path/integrity\n",
      "[ WARN:0@2016.234] global /io/opencv/modules/imgcodecs/src/loadsave.cpp (239) findDecoder imread_('/home/aaron/Desktop/Aaron/College-level_Applied_Research/GEI/270-00/04644.png'): can't open/read file: check file path/integrity\n",
      "[ WARN:0@2016.234] global /io/opencv/modules/imgcodecs/src/loadsave.cpp (239) findDecoder imread_('/home/aaron/Desktop/Aaron/College-level_Applied_Research/GEI/270-00/04645.png'): can't open/read file: check file path/integrity\n",
      "[ WARN:0@2016.234] global /io/opencv/modules/imgcodecs/src/loadsave.cpp (239) findDecoder imread_('/home/aaron/Desktop/Aaron/College-level_Applied_Research/GEI/270-00/04646.png'): can't open/read file: check file path/integrity\n",
      "[ WARN:0@2016.234] global /io/opencv/modules/imgcodecs/src/loadsave.cpp (239) findDecoder imread_('/home/aaron/Desktop/Aaron/College-level_Applied_Research/GEI/270-00/04647.png'): can't open/read file: check file path/integrity\n",
      "[ WARN:0@2016.234] global /io/opencv/modules/imgcodecs/src/loadsave.cpp (239) findDecoder imread_('/home/aaron/Desktop/Aaron/College-level_Applied_Research/GEI/270-00/04648.png'): can't open/read file: check file path/integrity\n",
      "[ WARN:0@2016.234] global /io/opencv/modules/imgcodecs/src/loadsave.cpp (239) findDecoder imread_('/home/aaron/Desktop/Aaron/College-level_Applied_Research/GEI/270-00/04649.png'): can't open/read file: check file path/integrity\n",
      "[ WARN:0@2016.234] global /io/opencv/modules/imgcodecs/src/loadsave.cpp (239) findDecoder imread_('/home/aaron/Desktop/Aaron/College-level_Applied_Research/GEI/270-00/04650.png'): can't open/read file: check file path/integrity\n",
      "[ WARN:0@2016.239] global /io/opencv/modules/imgcodecs/src/loadsave.cpp (239) findDecoder imread_('/home/aaron/Desktop/Aaron/College-level_Applied_Research/GEI/270-00/04653.png'): can't open/read file: check file path/integrity\n",
      "[ WARN:0@2016.239] global /io/opencv/modules/imgcodecs/src/loadsave.cpp (239) findDecoder imread_('/home/aaron/Desktop/Aaron/College-level_Applied_Research/GEI/270-00/04654.png'): can't open/read file: check file path/integrity\n",
      "[ WARN:0@2016.239] global /io/opencv/modules/imgcodecs/src/loadsave.cpp (239) findDecoder imread_('/home/aaron/Desktop/Aaron/College-level_Applied_Research/GEI/270-00/04655.png'): can't open/read file: check file path/integrity\n",
      "[ WARN:0@2016.242] global /io/opencv/modules/imgcodecs/src/loadsave.cpp (239) findDecoder imread_('/home/aaron/Desktop/Aaron/College-level_Applied_Research/GEI/270-00/04657.png'): can't open/read file: check file path/integrity\n",
      "[ WARN:0@2016.242] global /io/opencv/modules/imgcodecs/src/loadsave.cpp (239) findDecoder imread_('/home/aaron/Desktop/Aaron/College-level_Applied_Research/GEI/270-00/04658.png'): can't open/read file: check file path/integrity\n",
      "[ WARN:0@2016.242] global /io/opencv/modules/imgcodecs/src/loadsave.cpp (239) findDecoder imread_('/home/aaron/Desktop/Aaron/College-level_Applied_Research/GEI/270-00/04659.png'): can't open/read file: check file path/integrity\n",
      "[ WARN:0@2016.242] global /io/opencv/modules/imgcodecs/src/loadsave.cpp (239) findDecoder imread_('/home/aaron/Desktop/Aaron/College-level_Applied_Research/GEI/270-00/04660.png'): can't open/read file: check file path/integrity\n",
      "[ WARN:0@2016.242] global /io/opencv/modules/imgcodecs/src/loadsave.cpp (239) findDecoder imread_('/home/aaron/Desktop/Aaron/College-level_Applied_Research/GEI/270-00/04661.png'): can't open/read file: check file path/integrity\n",
      "[ WARN:0@2016.244] global /io/opencv/modules/imgcodecs/src/loadsave.cpp (239) findDecoder imread_('/home/aaron/Desktop/Aaron/College-level_Applied_Research/GEI/270-00/04663.png'): can't open/read file: check file path/integrity\n",
      "[ WARN:0@2016.244] global /io/opencv/modules/imgcodecs/src/loadsave.cpp (239) findDecoder imread_('/home/aaron/Desktop/Aaron/College-level_Applied_Research/GEI/270-00/04664.png'): can't open/read file: check file path/integrity\n",
      "[ WARN:0@2016.244] global /io/opencv/modules/imgcodecs/src/loadsave.cpp (239) findDecoder imread_('/home/aaron/Desktop/Aaron/College-level_Applied_Research/GEI/270-00/04665.png'): can't open/read file: check file path/integrity\n",
      "[ WARN:0@2016.247] global /io/opencv/modules/imgcodecs/src/loadsave.cpp (239) findDecoder imread_('/home/aaron/Desktop/Aaron/College-level_Applied_Research/GEI/270-00/04667.png'): can't open/read file: check file path/integrity\n",
      "[ WARN:0@2016.247] global /io/opencv/modules/imgcodecs/src/loadsave.cpp (239) findDecoder imread_('/home/aaron/Desktop/Aaron/College-level_Applied_Research/GEI/270-00/04668.png'): can't open/read file: check file path/integrity\n",
      "[ WARN:0@2016.249] global /io/opencv/modules/imgcodecs/src/loadsave.cpp (239) findDecoder imread_('/home/aaron/Desktop/Aaron/College-level_Applied_Research/GEI/270-00/04670.png'): can't open/read file: check file path/integrity\n",
      "[ WARN:0@2016.249] global /io/opencv/modules/imgcodecs/src/loadsave.cpp (239) findDecoder imread_('/home/aaron/Desktop/Aaron/College-level_Applied_Research/GEI/270-00/04671.png'): can't open/read file: check file path/integrity\n",
      "[ WARN:0@2016.307] global /io/opencv/modules/imgcodecs/src/loadsave.cpp (239) findDecoder imread_('/home/aaron/Desktop/Aaron/College-level_Applied_Research/GEI/270-00/04690.png'): can't open/read file: check file path/integrity\n"
     ]
    },
    {
     "name": "stderr",
     "output_type": "stream",
     "text": [
      "[ WARN:0@2016.362] global /io/opencv/modules/imgcodecs/src/loadsave.cpp (239) findDecoder imread_('/home/aaron/Desktop/Aaron/College-level_Applied_Research/GEI/270-00/04702.png'): can't open/read file: check file path/integrity\n",
      "[ WARN:0@2016.520] global /io/opencv/modules/imgcodecs/src/loadsave.cpp (239) findDecoder imread_('/home/aaron/Desktop/Aaron/College-level_Applied_Research/GEI/270-00/04759.png'): can't open/read file: check file path/integrity\n",
      "[ WARN:0@2016.535] global /io/opencv/modules/imgcodecs/src/loadsave.cpp (239) findDecoder imread_('/home/aaron/Desktop/Aaron/College-level_Applied_Research/GEI/270-00/04765.png'): can't open/read file: check file path/integrity\n",
      "[ WARN:0@2016.538] global /io/opencv/modules/imgcodecs/src/loadsave.cpp (239) findDecoder imread_('/home/aaron/Desktop/Aaron/College-level_Applied_Research/GEI/270-00/04767.png'): can't open/read file: check file path/integrity\n",
      "[ WARN:0@2016.541] global /io/opencv/modules/imgcodecs/src/loadsave.cpp (239) findDecoder imread_('/home/aaron/Desktop/Aaron/College-level_Applied_Research/GEI/270-00/04769.png'): can't open/read file: check file path/integrity\n",
      "[ WARN:0@2016.572] global /io/opencv/modules/imgcodecs/src/loadsave.cpp (239) findDecoder imread_('/home/aaron/Desktop/Aaron/College-level_Applied_Research/GEI/270-00/04781.png'): can't open/read file: check file path/integrity\n",
      "[ WARN:0@2017.116] global /io/opencv/modules/imgcodecs/src/loadsave.cpp (239) findDecoder imread_('/home/aaron/Desktop/Aaron/College-level_Applied_Research/GEI/270-00/04996.png'): can't open/read file: check file path/integrity\n",
      "[ WARN:0@2017.153] global /io/opencv/modules/imgcodecs/src/loadsave.cpp (239) findDecoder imread_('/home/aaron/Desktop/Aaron/College-level_Applied_Research/GEI/270-00/05012.png'): can't open/read file: check file path/integrity\n",
      "[ WARN:0@2017.639] global /io/opencv/modules/imgcodecs/src/loadsave.cpp (239) findDecoder imread_('/home/aaron/Desktop/Aaron/College-level_Applied_Research/GEI/270-00/05193.png'): can't open/read file: check file path/integrity\n",
      "[ WARN:0@2017.712] global /io/opencv/modules/imgcodecs/src/loadsave.cpp (239) findDecoder imread_('/home/aaron/Desktop/Aaron/College-level_Applied_Research/GEI/270-00/05223.png'): can't open/read file: check file path/integrity\n",
      "[ WARN:0@2017.712] global /io/opencv/modules/imgcodecs/src/loadsave.cpp (239) findDecoder imread_('/home/aaron/Desktop/Aaron/College-level_Applied_Research/GEI/270-00/05224.png'): can't open/read file: check file path/integrity\n",
      "[ WARN:0@2017.720] global /io/opencv/modules/imgcodecs/src/loadsave.cpp (239) findDecoder imread_('/home/aaron/Desktop/Aaron/College-level_Applied_Research/GEI/270-00/05228.png'): can't open/read file: check file path/integrity\n",
      "[ WARN:0@2018.058] global /io/opencv/modules/imgcodecs/src/loadsave.cpp (239) findDecoder imread_('/home/aaron/Desktop/Aaron/College-level_Applied_Research/GEI/270-00/05353.png'): can't open/read file: check file path/integrity\n",
      "[ WARN:0@2018.183] global /io/opencv/modules/imgcodecs/src/loadsave.cpp (239) findDecoder imread_('/home/aaron/Desktop/Aaron/College-level_Applied_Research/GEI/270-00/05397.png'): can't open/read file: check file path/integrity\n",
      "[ WARN:0@2018.247] global /io/opencv/modules/imgcodecs/src/loadsave.cpp (239) findDecoder imread_('/home/aaron/Desktop/Aaron/College-level_Applied_Research/GEI/270-00/05420.png'): can't open/read file: check file path/integrity\n",
      "[ WARN:0@2018.270] global /io/opencv/modules/imgcodecs/src/loadsave.cpp (239) findDecoder imread_('/home/aaron/Desktop/Aaron/College-level_Applied_Research/GEI/270-00/05429.png'): can't open/read file: check file path/integrity\n",
      "[ WARN:0@2018.650] global /io/opencv/modules/imgcodecs/src/loadsave.cpp (239) findDecoder imread_('/home/aaron/Desktop/Aaron/College-level_Applied_Research/GEI/270-00/05544.png'): can't open/read file: check file path/integrity\n",
      "[ WARN:0@2018.817] global /io/opencv/modules/imgcodecs/src/loadsave.cpp (239) findDecoder imread_('/home/aaron/Desktop/Aaron/College-level_Applied_Research/GEI/270-00/05606.png'): can't open/read file: check file path/integrity\n",
      "[ WARN:0@2019.215] global /io/opencv/modules/imgcodecs/src/loadsave.cpp (239) findDecoder imread_('/home/aaron/Desktop/Aaron/College-level_Applied_Research/GEI/270-00/05760.png'): can't open/read file: check file path/integrity\n",
      "[ WARN:0@2019.407] global /io/opencv/modules/imgcodecs/src/loadsave.cpp (239) findDecoder imread_('/home/aaron/Desktop/Aaron/College-level_Applied_Research/GEI/270-00/05827.png'): can't open/read file: check file path/integrity\n",
      "[ WARN:0@2019.510] global /io/opencv/modules/imgcodecs/src/loadsave.cpp (239) findDecoder imread_('/home/aaron/Desktop/Aaron/College-level_Applied_Research/GEI/270-00/05849.png'): can't open/read file: check file path/integrity\n",
      "[ WARN:0@2019.530] global /io/opencv/modules/imgcodecs/src/loadsave.cpp (239) findDecoder imread_('/home/aaron/Desktop/Aaron/College-level_Applied_Research/GEI/270-00/05856.png'): can't open/read file: check file path/integrity\n",
      "[ WARN:0@2019.599] global /io/opencv/modules/imgcodecs/src/loadsave.cpp (239) findDecoder imread_('/home/aaron/Desktop/Aaron/College-level_Applied_Research/GEI/270-00/05884.png'): can't open/read file: check file path/integrity\n",
      "[ WARN:0@2019.662] global /io/opencv/modules/imgcodecs/src/loadsave.cpp (239) findDecoder imread_('/home/aaron/Desktop/Aaron/College-level_Applied_Research/GEI/270-00/05906.png'): can't open/read file: check file path/integrity\n",
      "[ WARN:0@2019.676] global /io/opencv/modules/imgcodecs/src/loadsave.cpp (239) findDecoder imread_('/home/aaron/Desktop/Aaron/College-level_Applied_Research/GEI/270-00/05912.png'): can't open/read file: check file path/integrity\n",
      "[ WARN:0@2019.678] global /io/opencv/modules/imgcodecs/src/loadsave.cpp (239) findDecoder imread_('/home/aaron/Desktop/Aaron/College-level_Applied_Research/GEI/270-00/05914.png'): can't open/read file: check file path/integrity\n",
      "[ WARN:0@2019.679] global /io/opencv/modules/imgcodecs/src/loadsave.cpp (239) findDecoder imread_('/home/aaron/Desktop/Aaron/College-level_Applied_Research/GEI/270-00/05915.png'): can't open/read file: check file path/integrity\n",
      "[ WARN:0@2019.699] global /io/opencv/modules/imgcodecs/src/loadsave.cpp (239) findDecoder imread_('/home/aaron/Desktop/Aaron/College-level_Applied_Research/GEI/270-00/05924.png'): can't open/read file: check file path/integrity\n",
      "[ WARN:0@2019.827] global /io/opencv/modules/imgcodecs/src/loadsave.cpp (239) findDecoder imread_('/home/aaron/Desktop/Aaron/College-level_Applied_Research/GEI/270-00/05976.png'): can't open/read file: check file path/integrity\n",
      "[ WARN:0@2019.896] global /io/opencv/modules/imgcodecs/src/loadsave.cpp (239) findDecoder imread_('/home/aaron/Desktop/Aaron/College-level_Applied_Research/GEI/270-00/06005.png'): can't open/read file: check file path/integrity\n",
      "[ WARN:0@2020.102] global /io/opencv/modules/imgcodecs/src/loadsave.cpp (239) findDecoder imread_('/home/aaron/Desktop/Aaron/College-level_Applied_Research/GEI/270-00/06084.png'): can't open/read file: check file path/integrity\n",
      "[ WARN:0@2020.105] global /io/opencv/modules/imgcodecs/src/loadsave.cpp (239) findDecoder imread_('/home/aaron/Desktop/Aaron/College-level_Applied_Research/GEI/270-00/06086.png'): can't open/read file: check file path/integrity\n",
      "[ WARN:0@2020.255] global /io/opencv/modules/imgcodecs/src/loadsave.cpp (239) findDecoder imread_('/home/aaron/Desktop/Aaron/College-level_Applied_Research/GEI/270-00/06145.png'): can't open/read file: check file path/integrity\n",
      "[ WARN:0@2020.294] global /io/opencv/modules/imgcodecs/src/loadsave.cpp (239) findDecoder imread_('/home/aaron/Desktop/Aaron/College-level_Applied_Research/GEI/270-00/06160.png'): can't open/read file: check file path/integrity\n",
      "[ WARN:0@2020.299] global /io/opencv/modules/imgcodecs/src/loadsave.cpp (239) findDecoder imread_('/home/aaron/Desktop/Aaron/College-level_Applied_Research/GEI/270-00/06163.png'): can't open/read file: check file path/integrity\n",
      "[ WARN:0@2020.420] global /io/opencv/modules/imgcodecs/src/loadsave.cpp (239) findDecoder imread_('/home/aaron/Desktop/Aaron/College-level_Applied_Research/GEI/270-00/06212.png'): can't open/read file: check file path/integrity\n",
      "[ WARN:0@2020.460] global /io/opencv/modules/imgcodecs/src/loadsave.cpp (239) findDecoder imread_('/home/aaron/Desktop/Aaron/College-level_Applied_Research/GEI/270-00/06229.png'): can't open/read file: check file path/integrity\n"
     ]
    },
    {
     "name": "stderr",
     "output_type": "stream",
     "text": [
      "[ WARN:0@2021.161] global /io/opencv/modules/imgcodecs/src/loadsave.cpp (239) findDecoder imread_('/home/aaron/Desktop/Aaron/College-level_Applied_Research/GEI/270-00/06470.png'): can't open/read file: check file path/integrity\n",
      "[ WARN:0@2021.161] global /io/opencv/modules/imgcodecs/src/loadsave.cpp (239) findDecoder imread_('/home/aaron/Desktop/Aaron/College-level_Applied_Research/GEI/270-00/06471.png'): can't open/read file: check file path/integrity\n",
      "[ WARN:0@2021.169] global /io/opencv/modules/imgcodecs/src/loadsave.cpp (239) findDecoder imread_('/home/aaron/Desktop/Aaron/College-level_Applied_Research/GEI/270-00/06475.png'): can't open/read file: check file path/integrity\n",
      "[ WARN:0@2021.183] global /io/opencv/modules/imgcodecs/src/loadsave.cpp (239) findDecoder imread_('/home/aaron/Desktop/Aaron/College-level_Applied_Research/GEI/270-00/06482.png'): can't open/read file: check file path/integrity\n",
      "[ WARN:0@2021.191] global /io/opencv/modules/imgcodecs/src/loadsave.cpp (239) findDecoder imread_('/home/aaron/Desktop/Aaron/College-level_Applied_Research/GEI/270-00/06486.png'): can't open/read file: check file path/integrity\n",
      "[ WARN:0@2021.328] global /io/opencv/modules/imgcodecs/src/loadsave.cpp (239) findDecoder imread_('/home/aaron/Desktop/Aaron/College-level_Applied_Research/GEI/270-00/06519.png'): can't open/read file: check file path/integrity\n",
      "[ WARN:0@2021.348] global /io/opencv/modules/imgcodecs/src/loadsave.cpp (239) findDecoder imread_('/home/aaron/Desktop/Aaron/College-level_Applied_Research/GEI/270-00/06528.png'): can't open/read file: check file path/integrity\n",
      "[ WARN:0@2021.475] global /io/opencv/modules/imgcodecs/src/loadsave.cpp (239) findDecoder imread_('/home/aaron/Desktop/Aaron/College-level_Applied_Research/GEI/270-00/06574.png'): can't open/read file: check file path/integrity\n",
      "[ WARN:0@2021.508] global /io/opencv/modules/imgcodecs/src/loadsave.cpp (239) findDecoder imread_('/home/aaron/Desktop/Aaron/College-level_Applied_Research/GEI/270-00/06584.png'): can't open/read file: check file path/integrity\n",
      "[ WARN:0@2021.544] global /io/opencv/modules/imgcodecs/src/loadsave.cpp (239) findDecoder imread_('/home/aaron/Desktop/Aaron/College-level_Applied_Research/GEI/270-00/06597.png'): can't open/read file: check file path/integrity\n",
      "[ WARN:0@2021.557] global /io/opencv/modules/imgcodecs/src/loadsave.cpp (239) findDecoder imread_('/home/aaron/Desktop/Aaron/College-level_Applied_Research/GEI/270-00/06603.png'): can't open/read file: check file path/integrity\n",
      "[ WARN:0@2021.634] global /io/opencv/modules/imgcodecs/src/loadsave.cpp (239) findDecoder imread_('/home/aaron/Desktop/Aaron/College-level_Applied_Research/GEI/270-00/06635.png'): can't open/read file: check file path/integrity\n",
      "[ WARN:0@2021.734] global /io/opencv/modules/imgcodecs/src/loadsave.cpp (239) findDecoder imread_('/home/aaron/Desktop/Aaron/College-level_Applied_Research/GEI/270-00/06673.png'): can't open/read file: check file path/integrity\n",
      "[ WARN:0@2021.755] global /io/opencv/modules/imgcodecs/src/loadsave.cpp (239) findDecoder imread_('/home/aaron/Desktop/Aaron/College-level_Applied_Research/GEI/270-00/06682.png'): can't open/read file: check file path/integrity\n",
      "[ WARN:0@2021.763] global /io/opencv/modules/imgcodecs/src/loadsave.cpp (239) findDecoder imread_('/home/aaron/Desktop/Aaron/College-level_Applied_Research/GEI/270-00/06686.png'): can't open/read file: check file path/integrity\n",
      "[ WARN:0@2021.766] global /io/opencv/modules/imgcodecs/src/loadsave.cpp (239) findDecoder imread_('/home/aaron/Desktop/Aaron/College-level_Applied_Research/GEI/270-00/06688.png'): can't open/read file: check file path/integrity\n",
      "[ WARN:0@2021.784] global /io/opencv/modules/imgcodecs/src/loadsave.cpp (239) findDecoder imread_('/home/aaron/Desktop/Aaron/College-level_Applied_Research/GEI/270-00/06696.png'): can't open/read file: check file path/integrity\n",
      "[ WARN:0@2021.812] global /io/opencv/modules/imgcodecs/src/loadsave.cpp (239) findDecoder imread_('/home/aaron/Desktop/Aaron/College-level_Applied_Research/GEI/270-00/06708.png'): can't open/read file: check file path/integrity\n",
      "[ WARN:0@2021.824] global /io/opencv/modules/imgcodecs/src/loadsave.cpp (239) findDecoder imread_('/home/aaron/Desktop/Aaron/College-level_Applied_Research/GEI/270-00/06714.png'): can't open/read file: check file path/integrity\n",
      "[ WARN:0@2021.976] global /io/opencv/modules/imgcodecs/src/loadsave.cpp (239) findDecoder imread_('/home/aaron/Desktop/Aaron/College-level_Applied_Research/GEI/270-00/06775.png'): can't open/read file: check file path/integrity\n",
      "[ WARN:0@2022.117] global /io/opencv/modules/imgcodecs/src/loadsave.cpp (239) findDecoder imread_('/home/aaron/Desktop/Aaron/College-level_Applied_Research/GEI/270-00/06832.png'): can't open/read file: check file path/integrity\n",
      "[ WARN:0@2022.396] global /io/opencv/modules/imgcodecs/src/loadsave.cpp (239) findDecoder imread_('/home/aaron/Desktop/Aaron/College-level_Applied_Research/GEI/270-00/06943.png'): can't open/read file: check file path/integrity\n",
      "[ WARN:0@2022.682] global /io/opencv/modules/imgcodecs/src/loadsave.cpp (239) findDecoder imread_('/home/aaron/Desktop/Aaron/College-level_Applied_Research/GEI/270-00/07053.png'): can't open/read file: check file path/integrity\n",
      "[ WARN:0@2023.074] global /io/opencv/modules/imgcodecs/src/loadsave.cpp (239) findDecoder imread_('/home/aaron/Desktop/Aaron/College-level_Applied_Research/GEI/270-00/07205.png'): can't open/read file: check file path/integrity\n",
      "[ WARN:0@2023.143] global /io/opencv/modules/imgcodecs/src/loadsave.cpp (239) findDecoder imread_('/home/aaron/Desktop/Aaron/College-level_Applied_Research/GEI/270-00/07234.png'): can't open/read file: check file path/integrity\n",
      "[ WARN:0@2023.168] global /io/opencv/modules/imgcodecs/src/loadsave.cpp (239) findDecoder imread_('/home/aaron/Desktop/Aaron/College-level_Applied_Research/GEI/270-00/07245.png'): can't open/read file: check file path/integrity\n",
      "[ WARN:0@2023.181] global /io/opencv/modules/imgcodecs/src/loadsave.cpp (239) findDecoder imread_('/home/aaron/Desktop/Aaron/College-level_Applied_Research/GEI/270-00/07251.png'): can't open/read file: check file path/integrity\n",
      "[ WARN:0@2023.290] global /io/opencv/modules/imgcodecs/src/loadsave.cpp (239) findDecoder imread_('/home/aaron/Desktop/Aaron/College-level_Applied_Research/GEI/270-00/07295.png'): can't open/read file: check file path/integrity\n",
      "[ WARN:0@2023.435] global /io/opencv/modules/imgcodecs/src/loadsave.cpp (239) findDecoder imread_('/home/aaron/Desktop/Aaron/College-level_Applied_Research/GEI/270-00/07348.png'): can't open/read file: check file path/integrity\n",
      "[ WARN:0@2023.528] global /io/opencv/modules/imgcodecs/src/loadsave.cpp (239) findDecoder imread_('/home/aaron/Desktop/Aaron/College-level_Applied_Research/GEI/270-00/07381.png'): can't open/read file: check file path/integrity\n",
      "[ WARN:0@2023.551] global /io/opencv/modules/imgcodecs/src/loadsave.cpp (239) findDecoder imread_('/home/aaron/Desktop/Aaron/College-level_Applied_Research/GEI/270-00/07390.png'): can't open/read file: check file path/integrity\n",
      "[ WARN:0@2023.706] global /io/opencv/modules/imgcodecs/src/loadsave.cpp (239) findDecoder imread_('/home/aaron/Desktop/Aaron/College-level_Applied_Research/GEI/270-00/07449.png'): can't open/read file: check file path/integrity\n",
      "[ WARN:0@2023.740] global /io/opencv/modules/imgcodecs/src/loadsave.cpp (239) findDecoder imread_('/home/aaron/Desktop/Aaron/College-level_Applied_Research/GEI/270-00/07462.png'): can't open/read file: check file path/integrity\n",
      "[ WARN:0@2023.875] global /io/opencv/modules/imgcodecs/src/loadsave.cpp (239) findDecoder imread_('/home/aaron/Desktop/Aaron/College-level_Applied_Research/GEI/270-00/07515.png'): can't open/read file: check file path/integrity\n",
      "[ WARN:0@2023.890] global /io/opencv/modules/imgcodecs/src/loadsave.cpp (239) findDecoder imread_('/home/aaron/Desktop/Aaron/College-level_Applied_Research/GEI/270-00/07522.png'): can't open/read file: check file path/integrity\n",
      "[ WARN:0@2024.463] global /io/opencv/modules/imgcodecs/src/loadsave.cpp (239) findDecoder imread_('/home/aaron/Desktop/Aaron/College-level_Applied_Research/GEI/270-00/07732.png'): can't open/read file: check file path/integrity\n"
     ]
    },
    {
     "name": "stderr",
     "output_type": "stream",
     "text": [
      "[ WARN:0@2024.788] global /io/opencv/modules/imgcodecs/src/loadsave.cpp (239) findDecoder imread_('/home/aaron/Desktop/Aaron/College-level_Applied_Research/GEI/270-00/07858.png'): can't open/read file: check file path/integrity\n",
      "[ WARN:0@2025.869] global /io/opencv/modules/imgcodecs/src/loadsave.cpp (239) findDecoder imread_('/home/aaron/Desktop/Aaron/College-level_Applied_Research/GEI/270-00/08271.png'): can't open/read file: check file path/integrity\n",
      "[ WARN:0@2025.957] global /io/opencv/modules/imgcodecs/src/loadsave.cpp (239) findDecoder imread_('/home/aaron/Desktop/Aaron/College-level_Applied_Research/GEI/270-00/08307.png'): can't open/read file: check file path/integrity\n",
      "[ WARN:0@2026.257] global /io/opencv/modules/imgcodecs/src/loadsave.cpp (239) findDecoder imread_('/home/aaron/Desktop/Aaron/College-level_Applied_Research/GEI/270-00/08424.png'): can't open/read file: check file path/integrity\n",
      "[ WARN:0@2027.131] global /io/opencv/modules/imgcodecs/src/loadsave.cpp (239) findDecoder imread_('/home/aaron/Desktop/Aaron/College-level_Applied_Research/GEI/270-00/08747.png'): can't open/read file: check file path/integrity\n",
      "[ WARN:0@2027.374] global /io/opencv/modules/imgcodecs/src/loadsave.cpp (239) findDecoder imread_('/home/aaron/Desktop/Aaron/College-level_Applied_Research/GEI/270-00/08835.png'): can't open/read file: check file path/integrity\n",
      "[ WARN:0@2027.507] global /io/opencv/modules/imgcodecs/src/loadsave.cpp (239) findDecoder imread_('/home/aaron/Desktop/Aaron/College-level_Applied_Research/GEI/270-00/08881.png'): can't open/read file: check file path/integrity\n",
      "[ WARN:0@2027.581] global /io/opencv/modules/imgcodecs/src/loadsave.cpp (239) findDecoder imread_('/home/aaron/Desktop/Aaron/College-level_Applied_Research/GEI/270-00/08906.png'): can't open/read file: check file path/integrity\n",
      "[ WARN:0@2027.842] global /io/opencv/modules/imgcodecs/src/loadsave.cpp (239) findDecoder imread_('/home/aaron/Desktop/Aaron/College-level_Applied_Research/GEI/270-00/09002.png'): can't open/read file: check file path/integrity\n",
      "[ WARN:0@2027.942] global /io/opencv/modules/imgcodecs/src/loadsave.cpp (239) findDecoder imread_('/home/aaron/Desktop/Aaron/College-level_Applied_Research/GEI/270-00/09043.png'): can't open/read file: check file path/integrity\n",
      "[ WARN:0@2027.954] global /io/opencv/modules/imgcodecs/src/loadsave.cpp (239) findDecoder imread_('/home/aaron/Desktop/Aaron/College-level_Applied_Research/GEI/270-00/09049.png'): can't open/read file: check file path/integrity\n",
      "[ WARN:0@2028.140] global /io/opencv/modules/imgcodecs/src/loadsave.cpp (239) findDecoder imread_('/home/aaron/Desktop/Aaron/College-level_Applied_Research/GEI/270-00/09122.png'): can't open/read file: check file path/integrity\n",
      "[ WARN:0@2028.334] global /io/opencv/modules/imgcodecs/src/loadsave.cpp (239) findDecoder imread_('/home/aaron/Desktop/Aaron/College-level_Applied_Research/GEI/270-00/09181.png'): can't open/read file: check file path/integrity\n",
      "[ WARN:0@2028.438] global /io/opencv/modules/imgcodecs/src/loadsave.cpp (239) findDecoder imread_('/home/aaron/Desktop/Aaron/College-level_Applied_Research/GEI/270-00/09209.png'): can't open/read file: check file path/integrity\n",
      "[ WARN:0@2028.720] global /io/opencv/modules/imgcodecs/src/loadsave.cpp (239) findDecoder imread_('/home/aaron/Desktop/Aaron/College-level_Applied_Research/GEI/270-00/09318.png'): can't open/read file: check file path/integrity\n",
      "[ WARN:0@2029.127] global /io/opencv/modules/imgcodecs/src/loadsave.cpp (239) findDecoder imread_('/home/aaron/Desktop/Aaron/College-level_Applied_Research/GEI/270-00/09467.png'): can't open/read file: check file path/integrity\n",
      "[ WARN:0@2029.679] global /io/opencv/modules/imgcodecs/src/loadsave.cpp (239) findDecoder imread_('/home/aaron/Desktop/Aaron/College-level_Applied_Research/GEI/270-00/09664.png'): can't open/read file: check file path/integrity\n",
      "[ WARN:0@2029.983] global /io/opencv/modules/imgcodecs/src/loadsave.cpp (239) findDecoder imread_('/home/aaron/Desktop/Aaron/College-level_Applied_Research/GEI/270-00/09779.png'): can't open/read file: check file path/integrity\n",
      "[ WARN:0@2029.999] global /io/opencv/modules/imgcodecs/src/loadsave.cpp (239) findDecoder imread_('/home/aaron/Desktop/Aaron/College-level_Applied_Research/GEI/270-00/09786.png'): can't open/read file: check file path/integrity\n",
      "[ WARN:0@2030.097] global /io/opencv/modules/imgcodecs/src/loadsave.cpp (239) findDecoder imread_('/home/aaron/Desktop/Aaron/College-level_Applied_Research/GEI/270-00/09822.png'): can't open/read file: check file path/integrity\n",
      "[ WARN:0@2030.131] global /io/opencv/modules/imgcodecs/src/loadsave.cpp (239) findDecoder imread_('/home/aaron/Desktop/Aaron/College-level_Applied_Research/GEI/270-00/09836.png'): can't open/read file: check file path/integrity\n",
      "[ WARN:0@2030.150] global /io/opencv/modules/imgcodecs/src/loadsave.cpp (239) findDecoder imread_('/home/aaron/Desktop/Aaron/College-level_Applied_Research/GEI/270-00/09843.png'): can't open/read file: check file path/integrity\n",
      "[ WARN:0@2030.200] global /io/opencv/modules/imgcodecs/src/loadsave.cpp (239) findDecoder imread_('/home/aaron/Desktop/Aaron/College-level_Applied_Research/GEI/270-00/09862.png'): can't open/read file: check file path/integrity\n",
      "[ WARN:0@2030.202] global /io/opencv/modules/imgcodecs/src/loadsave.cpp (239) findDecoder imread_('/home/aaron/Desktop/Aaron/College-level_Applied_Research/GEI/270-00/09864.png'): can't open/read file: check file path/integrity\n",
      "[ WARN:0@2030.202] global /io/opencv/modules/imgcodecs/src/loadsave.cpp (239) findDecoder imread_('/home/aaron/Desktop/Aaron/College-level_Applied_Research/GEI/270-00/09865.png'): can't open/read file: check file path/integrity\n",
      "[ WARN:0@2030.205] global /io/opencv/modules/imgcodecs/src/loadsave.cpp (239) findDecoder imread_('/home/aaron/Desktop/Aaron/College-level_Applied_Research/GEI/270-00/09867.png'): can't open/read file: check file path/integrity\n",
      "[ WARN:0@2030.331] global /io/opencv/modules/imgcodecs/src/loadsave.cpp (239) findDecoder imread_('/home/aaron/Desktop/Aaron/College-level_Applied_Research/GEI/270-00/09913.png'): can't open/read file: check file path/integrity\n",
      "[ WARN:0@2030.435] global /io/opencv/modules/imgcodecs/src/loadsave.cpp (239) findDecoder imread_('/home/aaron/Desktop/Aaron/College-level_Applied_Research/GEI/270-00/09948.png'): can't open/read file: check file path/integrity\n",
      "[ WARN:0@2030.475] global /io/opencv/modules/imgcodecs/src/loadsave.cpp (239) findDecoder imread_('/home/aaron/Desktop/Aaron/College-level_Applied_Research/GEI/270-00/09963.png'): can't open/read file: check file path/integrity\n",
      "[ WARN:0@2030.608] global /io/opencv/modules/imgcodecs/src/loadsave.cpp (239) findDecoder imread_('/home/aaron/Desktop/Aaron/College-level_Applied_Research/GEI/270-00/10008.png'): can't open/read file: check file path/integrity\n",
      "[ WARN:0@2030.616] global /io/opencv/modules/imgcodecs/src/loadsave.cpp (239) findDecoder imread_('/home/aaron/Desktop/Aaron/College-level_Applied_Research/GEI/270-00/10012.png'): can't open/read file: check file path/integrity\n",
      "[ WARN:0@2030.642] global /io/opencv/modules/imgcodecs/src/loadsave.cpp (239) findDecoder imread_('/home/aaron/Desktop/Aaron/College-level_Applied_Research/GEI/270-00/10023.png'): can't open/read file: check file path/integrity\n",
      "[ WARN:0@2030.648] global /io/opencv/modules/imgcodecs/src/loadsave.cpp (239) findDecoder imread_('/home/aaron/Desktop/Aaron/College-level_Applied_Research/GEI/270-00/10026.png'): can't open/read file: check file path/integrity\n",
      "[ WARN:0@2030.648] global /io/opencv/modules/imgcodecs/src/loadsave.cpp (239) findDecoder imread_('/home/aaron/Desktop/Aaron/College-level_Applied_Research/GEI/270-00/10027.png'): can't open/read file: check file path/integrity\n",
      "[ WARN:0@2030.664] global /io/opencv/modules/imgcodecs/src/loadsave.cpp (239) findDecoder imread_('/home/aaron/Desktop/Aaron/College-level_Applied_Research/GEI/270-00/10033.png'): can't open/read file: check file path/integrity\n",
      "[ WARN:0@2030.715] global /io/opencv/modules/imgcodecs/src/loadsave.cpp (239) findDecoder imread_('/home/aaron/Desktop/Aaron/College-level_Applied_Research/GEI/270-00/10054.png'): can't open/read file: check file path/integrity\n",
      "[ WARN:0@2030.834] global /io/opencv/modules/imgcodecs/src/loadsave.cpp (239) findDecoder imread_('/home/aaron/Desktop/Aaron/College-level_Applied_Research/GEI/270-00/10102.png'): can't open/read file: check file path/integrity\n"
     ]
    },
    {
     "name": "stderr",
     "output_type": "stream",
     "text": [
      "[ WARN:0@2030.884] global /io/opencv/modules/imgcodecs/src/loadsave.cpp (239) findDecoder imread_('/home/aaron/Desktop/Aaron/College-level_Applied_Research/GEI/270-00/10122.png'): can't open/read file: check file path/integrity\n",
      "[ WARN:0@2031.003] global /io/opencv/modules/imgcodecs/src/loadsave.cpp (239) findDecoder imread_('/home/aaron/Desktop/Aaron/College-level_Applied_Research/GEI/270-00/10170.png'): can't open/read file: check file path/integrity\n",
      "[ WARN:0@2031.145] global /io/opencv/modules/imgcodecs/src/loadsave.cpp (239) findDecoder imread_('/home/aaron/Desktop/Aaron/College-level_Applied_Research/GEI/270-00/10223.png'): can't open/read file: check file path/integrity\n",
      "[ WARN:0@2031.294] global /io/opencv/modules/imgcodecs/src/loadsave.cpp (239) findDecoder imread_('/home/aaron/Desktop/Aaron/College-level_Applied_Research/GEI/270-00/10270.png'): can't open/read file: check file path/integrity\n",
      "[ WARN:0@2031.294] global /io/opencv/modules/imgcodecs/src/loadsave.cpp (239) findDecoder imread_('/home/aaron/Desktop/Aaron/College-level_Applied_Research/GEI/270-00/10271.png'): can't open/read file: check file path/integrity\n",
      "[ WARN:0@2031.336] global /io/opencv/modules/imgcodecs/src/loadsave.cpp (239) findDecoder imread_('/home/aaron/Desktop/Aaron/College-level_Applied_Research/GEI/270-00/10283.png'): can't open/read file: check file path/integrity\n",
      "[ WARN:0@2031.339] global /io/opencv/modules/imgcodecs/src/loadsave.cpp (239) findDecoder imread_('/home/aaron/Desktop/Aaron/College-level_Applied_Research/GEI/270-00/10285.png'): can't open/read file: check file path/integrity\n",
      "[ WARN:0@2031.388] global /io/opencv/modules/imgcodecs/src/loadsave.cpp (239) findDecoder imread_('/home/aaron/Desktop/Aaron/College-level_Applied_Research/GEI/270-00/10305.png'): can't open/read file: check file path/integrity\n"
     ]
    }
   ],
   "source": [
    "phase = '00'\n",
    "angle = '270'\n",
    "# @measureExcutionTime\n",
    "def encoding(GEI):\n",
    "    GEI_embedding = gait_model(GEI.reshape(1, 128, 88, 3)).numpy()\n",
    "    return GEI_embedding\n",
    "total_GEI = {}\n",
    "\n",
    "for i in file_names:\n",
    "    GEI = cv2.imread(f'/home/aaron/Desktop/Aaron/College-level_Applied_Research/GEI/{angle}-{phase}/{i}.png')\n",
    "    \n",
    "    if GEI is not None:\n",
    "        GEI = GEI / 255.\n",
    "        GEI_embedding = encoding(GEI)\n",
    "        total_GEI[i] = GEI_embedding"
   ]
  },
  {
   "cell_type": "code",
   "execution_count": 67,
   "id": "2d9f2f15",
   "metadata": {},
   "outputs": [],
   "source": [
    "def euclidean_distance(v1, v2):\n",
    "    return (np.sum((v1-v2)**2))**0.5"
   ]
  },
  {
   "cell_type": "code",
   "execution_count": 68,
   "id": "b3d3cef2",
   "metadata": {},
   "outputs": [],
   "source": [
    "def random_sample_target_GEI_embedding():\n",
    "    phase = '01'\n",
    "    angle = '270'\n",
    "    target_GEI = None\n",
    "    while target_GEI is None:\n",
    "        target_id = random.sample(file_names, 1)[0]\n",
    "        target_GEI = cv2.imread(f'/home/aaron/Desktop/Aaron/College-level_Applied_Research/GEI/{angle}-{phase}/{target_id}.png')\n",
    "    target_GEI = target_GEI / 255.\n",
    "    target_GEI_embedding = gait_model(target_GEI.reshape(1, 128, 88, 3)).numpy()\n",
    "    return target_id, target_GEI_embedding"
   ]
  },
  {
   "cell_type": "code",
   "execution_count": 69,
   "id": "2c7ff5fe",
   "metadata": {},
   "outputs": [
    {
     "name": "stderr",
     "output_type": "stream",
     "text": [
      "[ WARN:0@2031.525] global /io/opencv/modules/imgcodecs/src/loadsave.cpp (239) findDecoder imread_('/home/aaron/Desktop/Aaron/College-level_Applied_Research/GEI/270-01/05824.png'): can't open/read file: check file path/integrity\n",
      "[ WARN:0@2031.649] global /io/opencv/modules/imgcodecs/src/loadsave.cpp (239) findDecoder imread_('/home/aaron/Desktop/Aaron/College-level_Applied_Research/GEI/270-01/06148.png'): can't open/read file: check file path/integrity\n",
      "[ WARN:0@2032.943] global /io/opencv/modules/imgcodecs/src/loadsave.cpp (239) findDecoder imread_('/home/aaron/Desktop/Aaron/College-level_Applied_Research/GEI/270-01/08307.png'): can't open/read file: check file path/integrity\n",
      "[ WARN:0@2033.462] global /io/opencv/modules/imgcodecs/src/loadsave.cpp (239) findDecoder imread_('/home/aaron/Desktop/Aaron/College-level_Applied_Research/GEI/270-01/04604.png'): can't open/read file: check file path/integrity\n",
      "[ WARN:0@2033.544] global /io/opencv/modules/imgcodecs/src/loadsave.cpp (239) findDecoder imread_('/home/aaron/Desktop/Aaron/College-level_Applied_Research/GEI/270-01/04509.png'): can't open/read file: check file path/integrity\n"
     ]
    },
    {
     "name": "stdout",
     "output_type": "stream",
     "text": [
      "Accuracy: 84%\n"
     ]
    },
    {
     "name": "stderr",
     "output_type": "stream",
     "text": [
      "[ WARN:0@2037.072] global /io/opencv/modules/imgcodecs/src/loadsave.cpp (239) findDecoder imread_('/home/aaron/Desktop/Aaron/College-level_Applied_Research/GEI/270-01/04327.png'): can't open/read file: check file path/integrity\n",
      "[ WARN:0@2037.433] global /io/opencv/modules/imgcodecs/src/loadsave.cpp (239) findDecoder imread_('/home/aaron/Desktop/Aaron/College-level_Applied_Research/GEI/270-01/04499.png'): can't open/read file: check file path/integrity\n"
     ]
    },
    {
     "name": "stdout",
     "output_type": "stream",
     "text": [
      "Accuracy: 78%\n"
     ]
    },
    {
     "name": "stderr",
     "output_type": "stream",
     "text": [
      "[ WARN:0@2039.511] global /io/opencv/modules/imgcodecs/src/loadsave.cpp (239) findDecoder imread_('/home/aaron/Desktop/Aaron/College-level_Applied_Research/GEI/270-01/04390.png'): can't open/read file: check file path/integrity\n",
      "[ WARN:0@2039.712] global /io/opencv/modules/imgcodecs/src/loadsave.cpp (239) findDecoder imread_('/home/aaron/Desktop/Aaron/College-level_Applied_Research/GEI/270-01/03458.png'): can't open/read file: check file path/integrity\n",
      "[ WARN:0@2040.129] global /io/opencv/modules/imgcodecs/src/loadsave.cpp (239) findDecoder imread_('/home/aaron/Desktop/Aaron/College-level_Applied_Research/GEI/270-01/04372.png'): can't open/read file: check file path/integrity\n",
      "[ WARN:0@2041.983] global /io/opencv/modules/imgcodecs/src/loadsave.cpp (239) findDecoder imread_('/home/aaron/Desktop/Aaron/College-level_Applied_Research/GEI/270-01/05900.png'): can't open/read file: check file path/integrity\n",
      "[ WARN:0@2042.856] global /io/opencv/modules/imgcodecs/src/loadsave.cpp (239) findDecoder imread_('/home/aaron/Desktop/Aaron/College-level_Applied_Research/GEI/270-01/04447.png'): can't open/read file: check file path/integrity\n",
      "[ WARN:0@2042.941] global /io/opencv/modules/imgcodecs/src/loadsave.cpp (239) findDecoder imread_('/home/aaron/Desktop/Aaron/College-level_Applied_Research/GEI/270-01/05985.png'): can't open/read file: check file path/integrity\n"
     ]
    },
    {
     "name": "stdout",
     "output_type": "stream",
     "text": [
      "Accuracy: 80%\n"
     ]
    },
    {
     "name": "stderr",
     "output_type": "stream",
     "text": [
      "[ WARN:0@2044.188] global /io/opencv/modules/imgcodecs/src/loadsave.cpp (239) findDecoder imread_('/home/aaron/Desktop/Aaron/College-level_Applied_Research/GEI/270-01/04324.png'): can't open/read file: check file path/integrity\n",
      "[ WARN:0@2045.081] global /io/opencv/modules/imgcodecs/src/loadsave.cpp (239) findDecoder imread_('/home/aaron/Desktop/Aaron/College-level_Applied_Research/GEI/270-01/04634.png'): can't open/read file: check file path/integrity\n",
      "[ WARN:0@2046.298] global /io/opencv/modules/imgcodecs/src/loadsave.cpp (239) findDecoder imread_('/home/aaron/Desktop/Aaron/College-level_Applied_Research/GEI/270-01/04318.png'): can't open/read file: check file path/integrity\n",
      "[ WARN:0@2046.866] global /io/opencv/modules/imgcodecs/src/loadsave.cpp (239) findDecoder imread_('/home/aaron/Desktop/Aaron/College-level_Applied_Research/GEI/270-01/01548.png'): can't open/read file: check file path/integrity\n",
      "[ WARN:0@2047.030] global /io/opencv/modules/imgcodecs/src/loadsave.cpp (239) findDecoder imread_('/home/aaron/Desktop/Aaron/College-level_Applied_Research/GEI/270-01/04350.png'): can't open/read file: check file path/integrity\n",
      "[ WARN:0@2047.155] global /io/opencv/modules/imgcodecs/src/loadsave.cpp (239) findDecoder imread_('/home/aaron/Desktop/Aaron/College-level_Applied_Research/GEI/270-01/04361.png'): can't open/read file: check file path/integrity\n",
      "[ WARN:0@2047.605] global /io/opencv/modules/imgcodecs/src/loadsave.cpp (239) findDecoder imread_('/home/aaron/Desktop/Aaron/College-level_Applied_Research/GEI/270-01/09683.png'): can't open/read file: check file path/integrity\n",
      "[ WARN:0@2047.605] global /io/opencv/modules/imgcodecs/src/loadsave.cpp (239) findDecoder imread_('/home/aaron/Desktop/Aaron/College-level_Applied_Research/GEI/270-01/04508.png'): can't open/read file: check file path/integrity\n",
      "[ WARN:0@2047.646] global /io/opencv/modules/imgcodecs/src/loadsave.cpp (239) findDecoder imread_('/home/aaron/Desktop/Aaron/College-level_Applied_Research/GEI/270-01/04470.png'): can't open/read file: check file path/integrity\n"
     ]
    },
    {
     "name": "stdout",
     "output_type": "stream",
     "text": [
      "Accuracy: 79%\n"
     ]
    },
    {
     "name": "stderr",
     "output_type": "stream",
     "text": [
      "[ WARN:0@2048.138] global /io/opencv/modules/imgcodecs/src/loadsave.cpp (239) findDecoder imread_('/home/aaron/Desktop/Aaron/College-level_Applied_Research/GEI/270-01/04475.png'): can't open/read file: check file path/integrity\n",
      "[ WARN:0@2048.179] global /io/opencv/modules/imgcodecs/src/loadsave.cpp (239) findDecoder imread_('/home/aaron/Desktop/Aaron/College-level_Applied_Research/GEI/270-01/04519.png'): can't open/read file: check file path/integrity\n",
      "[ WARN:0@2048.868] global /io/opencv/modules/imgcodecs/src/loadsave.cpp (239) findDecoder imread_('/home/aaron/Desktop/Aaron/College-level_Applied_Research/GEI/270-01/04635.png'): can't open/read file: check file path/integrity\n",
      "[ WARN:0@2049.232] global /io/opencv/modules/imgcodecs/src/loadsave.cpp (239) findDecoder imread_('/home/aaron/Desktop/Aaron/College-level_Applied_Research/GEI/270-01/05726.png'): can't open/read file: check file path/integrity\n",
      "[ WARN:0@2049.272] global /io/opencv/modules/imgcodecs/src/loadsave.cpp (239) findDecoder imread_('/home/aaron/Desktop/Aaron/College-level_Applied_Research/GEI/270-01/04316.png'): can't open/read file: check file path/integrity\n",
      "[ WARN:0@2049.885] global /io/opencv/modules/imgcodecs/src/loadsave.cpp (239) findDecoder imread_('/home/aaron/Desktop/Aaron/College-level_Applied_Research/GEI/270-01/05900.png'): can't open/read file: check file path/integrity\n",
      "[ WARN:0@2050.006] global /io/opencv/modules/imgcodecs/src/loadsave.cpp (239) findDecoder imread_('/home/aaron/Desktop/Aaron/College-level_Applied_Research/GEI/270-01/04634.png'): can't open/read file: check file path/integrity\n"
     ]
    },
    {
     "name": "stdout",
     "output_type": "stream",
     "text": [
      "Accuracy: 83%\n"
     ]
    },
    {
     "name": "stderr",
     "output_type": "stream",
     "text": [
      "[ WARN:0@2051.866] global /io/opencv/modules/imgcodecs/src/loadsave.cpp (239) findDecoder imread_('/home/aaron/Desktop/Aaron/College-level_Applied_Research/GEI/270-01/09953.png'): can't open/read file: check file path/integrity\n",
      "[ WARN:0@2052.074] global /io/opencv/modules/imgcodecs/src/loadsave.cpp (239) findDecoder imread_('/home/aaron/Desktop/Aaron/College-level_Applied_Research/GEI/270-01/04618.png'): can't open/read file: check file path/integrity\n",
      "[ WARN:0@2052.285] global /io/opencv/modules/imgcodecs/src/loadsave.cpp (239) findDecoder imread_('/home/aaron/Desktop/Aaron/College-level_Applied_Research/GEI/270-01/04453.png'): can't open/read file: check file path/integrity\n",
      "[ WARN:0@2052.326] global /io/opencv/modules/imgcodecs/src/loadsave.cpp (239) findDecoder imread_('/home/aaron/Desktop/Aaron/College-level_Applied_Research/GEI/270-01/04508.png'): can't open/read file: check file path/integrity\n",
      "[ WARN:0@2053.273] global /io/opencv/modules/imgcodecs/src/loadsave.cpp (239) findDecoder imread_('/home/aaron/Desktop/Aaron/College-level_Applied_Research/GEI/270-01/05691.png'): can't open/read file: check file path/integrity\n",
      "[ WARN:0@2054.594] global /io/opencv/modules/imgcodecs/src/loadsave.cpp (239) findDecoder imread_('/home/aaron/Desktop/Aaron/College-level_Applied_Research/GEI/270-01/03645.png'): can't open/read file: check file path/integrity\n",
      "[ WARN:0@2055.752] global /io/opencv/modules/imgcodecs/src/loadsave.cpp (239) findDecoder imread_('/home/aaron/Desktop/Aaron/College-level_Applied_Research/GEI/270-01/01332.png'): can't open/read file: check file path/integrity\n"
     ]
    },
    {
     "name": "stdout",
     "output_type": "stream",
     "text": [
      "Accuracy: 80%\n"
     ]
    },
    {
     "name": "stderr",
     "output_type": "stream",
     "text": [
      "[ WARN:0@2056.450] global /io/opencv/modules/imgcodecs/src/loadsave.cpp (239) findDecoder imread_('/home/aaron/Desktop/Aaron/College-level_Applied_Research/GEI/270-01/04452.png'): can't open/read file: check file path/integrity\n",
      "[ WARN:0@2056.654] global /io/opencv/modules/imgcodecs/src/loadsave.cpp (239) findDecoder imread_('/home/aaron/Desktop/Aaron/College-level_Applied_Research/GEI/270-01/00300.png'): can't open/read file: check file path/integrity\n",
      "[ WARN:0@2056.815] global /io/opencv/modules/imgcodecs/src/loadsave.cpp (239) findDecoder imread_('/home/aaron/Desktop/Aaron/College-level_Applied_Research/GEI/270-01/09200.png'): can't open/read file: check file path/integrity\n",
      "[ WARN:0@2057.060] global /io/opencv/modules/imgcodecs/src/loadsave.cpp (239) findDecoder imread_('/home/aaron/Desktop/Aaron/College-level_Applied_Research/GEI/270-01/09843.png'): can't open/read file: check file path/integrity\n",
      "[ WARN:0@2057.592] global /io/opencv/modules/imgcodecs/src/loadsave.cpp (239) findDecoder imread_('/home/aaron/Desktop/Aaron/College-level_Applied_Research/GEI/270-01/05781.png'): can't open/read file: check file path/integrity\n",
      "[ WARN:0@2057.792] global /io/opencv/modules/imgcodecs/src/loadsave.cpp (239) findDecoder imread_('/home/aaron/Desktop/Aaron/College-level_Applied_Research/GEI/270-01/04490.png'): can't open/read file: check file path/integrity\n",
      "[ WARN:0@2058.969] global /io/opencv/modules/imgcodecs/src/loadsave.cpp (239) findDecoder imread_('/home/aaron/Desktop/Aaron/College-level_Applied_Research/GEI/270-01/05890.png'): can't open/read file: check file path/integrity\n"
     ]
    },
    {
     "name": "stdout",
     "output_type": "stream",
     "text": [
      "Accuracy: 80%\n"
     ]
    },
    {
     "name": "stderr",
     "output_type": "stream",
     "text": [
      "[ WARN:0@2062.367] global /io/opencv/modules/imgcodecs/src/loadsave.cpp (239) findDecoder imread_('/home/aaron/Desktop/Aaron/College-level_Applied_Research/GEI/270-01/04485.png'): can't open/read file: check file path/integrity\n",
      "[ WARN:0@2062.448] global /io/opencv/modules/imgcodecs/src/loadsave.cpp (239) findDecoder imread_('/home/aaron/Desktop/Aaron/College-level_Applied_Research/GEI/270-01/07589.png'): can't open/read file: check file path/integrity\n",
      "[ WARN:0@2062.898] global /io/opencv/modules/imgcodecs/src/loadsave.cpp (239) findDecoder imread_('/home/aaron/Desktop/Aaron/College-level_Applied_Research/GEI/270-01/03458.png'): can't open/read file: check file path/integrity\n",
      "[ WARN:0@2063.384] global /io/opencv/modules/imgcodecs/src/loadsave.cpp (239) findDecoder imread_('/home/aaron/Desktop/Aaron/College-level_Applied_Research/GEI/270-01/08988.png'): can't open/read file: check file path/integrity\n"
     ]
    },
    {
     "name": "stdout",
     "output_type": "stream",
     "text": [
      "Accuracy: 75%\n"
     ]
    },
    {
     "name": "stderr",
     "output_type": "stream",
     "text": [
      "[ WARN:0@2065.302] global /io/opencv/modules/imgcodecs/src/loadsave.cpp (239) findDecoder imread_('/home/aaron/Desktop/Aaron/College-level_Applied_Research/GEI/270-01/04520.png'): can't open/read file: check file path/integrity\n",
      "[ WARN:0@2066.247] global /io/opencv/modules/imgcodecs/src/loadsave.cpp (239) findDecoder imread_('/home/aaron/Desktop/Aaron/College-level_Applied_Research/GEI/270-01/03555.png'): can't open/read file: check file path/integrity\n",
      "[ WARN:0@2066.597] global /io/opencv/modules/imgcodecs/src/loadsave.cpp (239) findDecoder imread_('/home/aaron/Desktop/Aaron/College-level_Applied_Research/GEI/270-01/06148.png'): can't open/read file: check file path/integrity\n",
      "[ WARN:0@2066.803] global /io/opencv/modules/imgcodecs/src/loadsave.cpp (239) findDecoder imread_('/home/aaron/Desktop/Aaron/College-level_Applied_Research/GEI/270-01/04372.png'): can't open/read file: check file path/integrity\n",
      "[ WARN:0@2067.854] global /io/opencv/modules/imgcodecs/src/loadsave.cpp (239) findDecoder imread_('/home/aaron/Desktop/Aaron/College-level_Applied_Research/GEI/270-01/04543.png'): can't open/read file: check file path/integrity\n"
     ]
    },
    {
     "name": "stdout",
     "output_type": "stream",
     "text": [
      "Accuracy: 74%\n"
     ]
    },
    {
     "name": "stderr",
     "output_type": "stream",
     "text": [
      "[ WARN:0@2068.537] global /io/opencv/modules/imgcodecs/src/loadsave.cpp (239) findDecoder imread_('/home/aaron/Desktop/Aaron/College-level_Applied_Research/GEI/270-01/01226.png'): can't open/read file: check file path/integrity\n",
      "[ WARN:0@2069.000] global /io/opencv/modules/imgcodecs/src/loadsave.cpp (239) findDecoder imread_('/home/aaron/Desktop/Aaron/College-level_Applied_Research/GEI/270-01/08033.png'): can't open/read file: check file path/integrity\n",
      "[ WARN:0@2070.470] global /io/opencv/modules/imgcodecs/src/loadsave.cpp (239) findDecoder imread_('/home/aaron/Desktop/Aaron/College-level_Applied_Research/GEI/270-01/09683.png'): can't open/read file: check file path/integrity\n",
      "[ WARN:0@2070.554] global /io/opencv/modules/imgcodecs/src/loadsave.cpp (239) findDecoder imread_('/home/aaron/Desktop/Aaron/College-level_Applied_Research/GEI/270-01/05767.png'): can't open/read file: check file path/integrity\n",
      "[ WARN:0@2071.211] global /io/opencv/modules/imgcodecs/src/loadsave.cpp (239) findDecoder imread_('/home/aaron/Desktop/Aaron/College-level_Applied_Research/GEI/270-01/09853.png'): can't open/read file: check file path/integrity\n",
      "[ WARN:0@2071.674] global /io/opencv/modules/imgcodecs/src/loadsave.cpp (239) findDecoder imread_('/home/aaron/Desktop/Aaron/College-level_Applied_Research/GEI/270-01/03542.png'): can't open/read file: check file path/integrity\n"
     ]
    },
    {
     "name": "stdout",
     "output_type": "stream",
     "text": [
      "Accuracy: 74%\n",
      "Average Acc.: 78.7%\n"
     ]
    }
   ],
   "source": [
    "\n",
    "acc_list = []\n",
    "for t in range(10):\n",
    "    count = 0\n",
    "    for i in range(100):\n",
    "        recog = None\n",
    "        min_distance = 1e+10\n",
    "\n",
    "        target_id, target_GEI_embedding = random_sample_target_GEI_embedding()\n",
    "        for k, v in total_GEI.items():\n",
    "            distance = euclidean_distance(target_GEI_embedding, v)\n",
    "            if min_distance > distance:\n",
    "                min_distance = distance\n",
    "                recog = k\n",
    "        if target_id == recog:\n",
    "            count += 1\n",
    "    acc_list.append(count)\n",
    "    print(f'Accuracy: {count}%')    \n",
    "average_acc = sum(acc_list) / len(acc_list)\n",
    "print(f'Average Acc.: {average_acc}%')"
   ]
  },
  {
   "cell_type": "code",
   "execution_count": null,
   "id": "97179ae3",
   "metadata": {},
   "outputs": [],
   "source": []
  },
  {
   "cell_type": "code",
   "execution_count": null,
   "id": "01902750",
   "metadata": {},
   "outputs": [],
   "source": []
  },
  {
   "cell_type": "code",
   "execution_count": 3,
   "id": "b2cc58f0",
   "metadata": {
    "scrolled": false
   },
   "outputs": [
    {
     "name": "stdout",
     "output_type": "stream",
     "text": [
      "['08326', '09882', '05768', '05783', '04526', '05695', '07595', '07007']\n",
      "1:  04526\n"
     ]
    },
    {
     "name": "stderr",
     "output_type": "stream",
     "text": [
      "[ WARN:0@103.318] global /io/opencv/modules/imgcodecs/src/loadsave.cpp (239) findDecoder imread_('/home/aaron/Desktop/Aaron/College-level_Applied_Research/GEI/090-01/04526.png'): can't open/read file: check file path/integrity\n"
     ]
    },
    {
     "ename": "TypeError",
     "evalue": "unsupported operand type(s) for -: 'NoneType' and 'float'",
     "output_type": "error",
     "traceback": [
      "\u001b[0;31m---------------------------------------------------------------------------\u001b[0m",
      "\u001b[0;31mTypeError\u001b[0m                                 Traceback (most recent call last)",
      "Input \u001b[0;32mIn [3]\u001b[0m, in \u001b[0;36m<cell line: 5>\u001b[0;34m()\u001b[0m\n\u001b[1;32m     10\u001b[0m \u001b[38;5;28;01mif\u001b[39;00m img2 \u001b[38;5;129;01mis\u001b[39;00m \u001b[38;5;28;01mNone\u001b[39;00m:\n\u001b[1;32m     11\u001b[0m     \u001b[38;5;28mprint\u001b[39m(\u001b[38;5;124m'\u001b[39m\u001b[38;5;124m2: \u001b[39m\u001b[38;5;124m'\u001b[39m, name)\n\u001b[0;32m---> 12\u001b[0m img1 \u001b[38;5;241m=\u001b[39m (\u001b[43mimg1\u001b[49m\u001b[38;5;241;43m-\u001b[39;49m\u001b[38;5;241;43m127.5\u001b[39;49m)\u001b[38;5;241m/\u001b[39m\u001b[38;5;241m127.5\u001b[39m\n\u001b[1;32m     13\u001b[0m img2 \u001b[38;5;241m=\u001b[39m (img2\u001b[38;5;241m-\u001b[39m\u001b[38;5;241m127.5\u001b[39m)\u001b[38;5;241m/\u001b[39m\u001b[38;5;241m127.5\u001b[39m\n\u001b[1;32m     15\u001b[0m image_list1[i] \u001b[38;5;241m=\u001b[39m img1\n",
      "\u001b[0;31mTypeError\u001b[0m: unsupported operand type(s) for -: 'NoneType' and 'float'"
     ]
    }
   ],
   "source": [
    "file_names = [str(random.randint(1, 10308)).zfill(5) for i in range(8)]\n",
    "image_list1 = np.zeros((8, 128, 88, 3))\n",
    "image_list2 = np.zeros((8, 128, 88, 3))\n",
    "print(file_names)\n",
    "for i, name in enumerate(file_names):\n",
    "    img1 = cv2.imread(f'/home/aaron/Desktop/Aaron/College-level_Applied_Research/GEI/090-01/{name}.png')\n",
    "    img2 = cv2.imread(f'/home/aaron/Desktop/Aaron/College-level_Applied_Research/GEI/030-01/{name}.png')\n",
    "    if img1 is None:\n",
    "        print('1: ', name)\n",
    "    if img2 is None:\n",
    "        print('2: ', name)\n",
    "    img1 = (img1-127.5)/127.5\n",
    "    img2 = (img2-127.5)/127.5\n",
    "    \n",
    "    image_list1[i] = img1\n",
    "    image_list2[i] = img2"
   ]
  },
  {
   "cell_type": "code",
   "execution_count": 84,
   "id": "13ba78bd",
   "metadata": {},
   "outputs": [
    {
     "data": {
      "text/plain": [
       "['01594', '06779', '10170', '09154', '05570', '04098', '03120', '07834']"
      ]
     },
     "execution_count": 84,
     "metadata": {},
     "output_type": "execute_result"
    }
   ],
   "source": [
    "file_names"
   ]
  },
  {
   "cell_type": "code",
   "execution_count": 85,
   "id": "26150a01",
   "metadata": {},
   "outputs": [],
   "source": [
    "# file_names[-2] = file_names[-1]\n",
    "file_names[1] = file_names[2]  "
   ]
  },
  {
   "cell_type": "code",
   "execution_count": 86,
   "id": "2ef08169",
   "metadata": {},
   "outputs": [],
   "source": [
    "embeddings1 = model(image_list1).numpy()\n",
    "embeddings2 = model(image_list2).numpy()"
   ]
  },
  {
   "cell_type": "code",
   "execution_count": 87,
   "id": "2514da2b",
   "metadata": {},
   "outputs": [
    {
     "data": {
      "text/plain": [
       "array([[  5.0081425 ,   7.527439  ,  -7.6025896 , ...,  -0.2344679 ,\n",
       "          5.362405  ,   2.821217  ],\n",
       "       [  0.28373265,  10.166183  ,  -4.7026176 , ...,  -1.4072145 ,\n",
       "          4.4099317 ,   2.7005177 ],\n",
       "       [  2.8766582 ,   8.207982  ,  -7.7678347 , ...,  -1.3307458 ,\n",
       "          0.30927542,  -1.4374608 ],\n",
       "       ...,\n",
       "       [  5.5946884 ,   7.3029976 ,  -7.873669  , ...,  -0.30615833,\n",
       "          4.222553  ,   4.1383348 ],\n",
       "       [  4.4450293 ,   9.766668  , -11.905111  , ...,   2.7422938 ,\n",
       "          5.212977  ,   5.2739215 ],\n",
       "       [  3.1315448 ,   9.581806  ,  -5.871356  , ...,   2.62989   ,\n",
       "          5.557616  ,   7.2878194 ]], dtype=float32)"
      ]
     },
     "execution_count": 87,
     "metadata": {},
     "output_type": "execute_result"
    }
   ],
   "source": [
    "embeddings1"
   ]
  },
  {
   "cell_type": "code",
   "execution_count": 88,
   "id": "f9a8fe10",
   "metadata": {},
   "outputs": [
    {
     "data": {
      "text/plain": [
       "(8, 1024)"
      ]
     },
     "execution_count": 88,
     "metadata": {},
     "output_type": "execute_result"
    }
   ],
   "source": [
    "embeddings2.shape"
   ]
  },
  {
   "cell_type": "code",
   "execution_count": 89,
   "id": "07f92545",
   "metadata": {},
   "outputs": [
    {
     "data": {
      "text/plain": [
       "array([ 1594., 10170., 10170.,  9154.,  5570.,  4098.,  3120.,  7834.],\n",
       "      dtype=float32)"
      ]
     },
     "execution_count": 89,
     "metadata": {},
     "output_type": "execute_result"
    }
   ],
   "source": [
    "np.array(file_names).astype(np.float32)"
   ]
  },
  {
   "cell_type": "code",
   "execution_count": 90,
   "id": "2ee9d67e",
   "metadata": {},
   "outputs": [],
   "source": [
    "def E_distance(v1, v2):\n",
    "    return (np.sum((v1-v2)**2))**0.5"
   ]
  },
  {
   "cell_type": "code",
   "execution_count": 91,
   "id": "7e1baf84",
   "metadata": {},
   "outputs": [
    {
     "name": "stdout",
     "output_type": "stream",
     "text": [
      "111.88262892982985\n",
      "118.91918868500575\n",
      "130.51767421023868\n",
      "99.57147440720661\n",
      "118.71273263902656\n",
      "120.50658857765828\n",
      "121.226721347853\n",
      "38.273589794808245\n"
     ]
    }
   ],
   "source": [
    "for i in range(len(embeddings1)):\n",
    "    print(E_distance(embeddings2[-1], embeddings1[i]))"
   ]
  },
  {
   "cell_type": "code",
   "execution_count": 3,
   "id": "ed98cbe5",
   "metadata": {},
   "outputs": [],
   "source": [
    "a = np.array([1,2,3,4]).reshape(1,1,4)"
   ]
  },
  {
   "cell_type": "code",
   "execution_count": 18,
   "id": "3a84210c",
   "metadata": {},
   "outputs": [
    {
     "data": {
      "text/plain": [
       "(1, 1, 4)"
      ]
     },
     "execution_count": 18,
     "metadata": {},
     "output_type": "execute_result"
    }
   ],
   "source": [
    "a.shape"
   ]
  },
  {
   "cell_type": "code",
   "execution_count": 20,
   "id": "db2b410d",
   "metadata": {},
   "outputs": [
    {
     "ename": "ValueError",
     "evalue": "operands could not be broadcast together with shape (1,) (2,)",
     "output_type": "error",
     "traceback": [
      "\u001b[0;31m---------------------------------------------------------------------------\u001b[0m",
      "\u001b[0;31mValueError\u001b[0m                                Traceback (most recent call last)",
      "Input \u001b[0;32mIn [20]\u001b[0m, in \u001b[0;36m<cell line: 1>\u001b[0;34m()\u001b[0m\n\u001b[0;32m----> 1\u001b[0m \u001b[43ma\u001b[49m\u001b[38;5;241;43m.\u001b[39;49m\u001b[43mrepeat\u001b[49m\u001b[43m(\u001b[49m\u001b[43m[\u001b[49m\u001b[38;5;241;43m128\u001b[39;49m\u001b[43m,\u001b[49m\u001b[43m \u001b[49m\u001b[38;5;241;43m88\u001b[39;49m\u001b[43m]\u001b[49m\u001b[43m,\u001b[49m\u001b[43m \u001b[49m\u001b[43maxis\u001b[49m\u001b[43m \u001b[49m\u001b[38;5;241;43m=\u001b[39;49m\u001b[43m \u001b[49m\u001b[38;5;241;43m1\u001b[39;49m\u001b[43m)\u001b[49m\n",
      "\u001b[0;31mValueError\u001b[0m: operands could not be broadcast together with shape (1,) (2,)"
     ]
    }
   ],
   "source": [
    "a.repeat([128, 88], axis = 1)"
   ]
  },
  {
   "cell_type": "code",
   "execution_count": 14,
   "id": "da0f9a5d",
   "metadata": {},
   "outputs": [],
   "source": [
    "b = a.repeat(128, axis = 0)"
   ]
  },
  {
   "cell_type": "code",
   "execution_count": 15,
   "id": "bfd5b37c",
   "metadata": {},
   "outputs": [],
   "source": [
    "c = b.repeat(88, axis = 1)"
   ]
  },
  {
   "cell_type": "code",
   "execution_count": 17,
   "id": "d24aae4e",
   "metadata": {},
   "outputs": [
    {
     "data": {
      "text/plain": [
       "(128, 88, 4)"
      ]
     },
     "execution_count": 17,
     "metadata": {},
     "output_type": "execute_result"
    }
   ],
   "source": [
    "c.shape"
   ]
  },
  {
   "cell_type": "code",
   "execution_count": null,
   "id": "4037a59a",
   "metadata": {},
   "outputs": [],
   "source": []
  }
 ],
 "metadata": {
  "kernelspec": {
   "display_name": "Python 3 (ipykernel)",
   "language": "python",
   "name": "python3"
  },
  "language_info": {
   "codemirror_mode": {
    "name": "ipython",
    "version": 3
   },
   "file_extension": ".py",
   "mimetype": "text/x-python",
   "name": "python",
   "nbconvert_exporter": "python",
   "pygments_lexer": "ipython3",
   "version": "3.8.13"
  }
 },
 "nbformat": 4,
 "nbformat_minor": 5
}
